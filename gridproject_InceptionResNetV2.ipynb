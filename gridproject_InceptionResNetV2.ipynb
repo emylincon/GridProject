{
  "nbformat": 4,
  "nbformat_minor": 0,
  "metadata": {
    "colab": {
      "name": "gridproject_InceptionResNetV2.ipynb",
      "provenance": [],
      "authorship_tag": "ABX9TyP1nigBe4JJq99Rz9Py4/FG",
      "include_colab_link": true
    },
    "kernelspec": {
      "name": "python3",
      "display_name": "Python 3"
    }
  },
  "cells": [
    {
      "cell_type": "markdown",
      "metadata": {
        "id": "view-in-github",
        "colab_type": "text"
      },
      "source": [
        "<a href=\"https://colab.research.google.com/github/emylincon/GridProject/blob/master/gridproject_InceptionResNetV2.ipynb\" target=\"_parent\"><img src=\"https://colab.research.google.com/assets/colab-badge.svg\" alt=\"Open In Colab\"/></a>"
      ]
    },
    {
      "cell_type": "code",
      "metadata": {
        "colab": {
          "base_uri": "https://localhost:8080/"
        },
        "id": "rAsqH0JrL8AJ",
        "outputId": "4cfa67c9-3def-489a-e9d2-4ff29645764e"
      },
      "source": [
        "from google.colab import drive\r\n",
        "drive.mount('/content/drive')"
      ],
      "execution_count": null,
      "outputs": [
        {
          "output_type": "stream",
          "text": [
            "Mounted at /content/drive\n"
          ],
          "name": "stdout"
        }
      ]
    },
    {
      "cell_type": "code",
      "metadata": {
        "colab": {
          "base_uri": "https://localhost:8080/"
        },
        "id": "J-tnpS7QMIWd",
        "outputId": "1faefe09-931f-42fd-8cf7-3517cf97d65e"
      },
      "source": [
        "! cd \"drive/MyDrive/dataset/\"\r\n",
        "! ls \"drive/MyDrive/dataset/\""
      ],
      "execution_count": null,
      "outputs": [
        {
          "output_type": "stream",
          "text": [
            "checkpoint  res50_2_model.h5  test  train\n"
          ],
          "name": "stdout"
        }
      ]
    },
    {
      "cell_type": "code",
      "metadata": {
        "colab": {
          "base_uri": "https://localhost:8080/"
        },
        "id": "Omko4fVFMSul",
        "outputId": "b3a30795-5ba1-45c2-e7e4-5cbf4bb016c2"
      },
      "source": [
        "! pip3 install keras==2.3.1"
      ],
      "execution_count": null,
      "outputs": [
        {
          "output_type": "stream",
          "text": [
            "Collecting keras==2.3.1\n",
            "\u001b[?25l  Downloading https://files.pythonhosted.org/packages/ad/fd/6bfe87920d7f4fd475acd28500a42482b6b84479832bdc0fe9e589a60ceb/Keras-2.3.1-py2.py3-none-any.whl (377kB)\n",
            "\u001b[K     |████████████████████████████████| 378kB 5.4MB/s \n",
            "\u001b[?25hRequirement already satisfied: scipy>=0.14 in /usr/local/lib/python3.6/dist-packages (from keras==2.3.1) (1.4.1)\n",
            "Requirement already satisfied: numpy>=1.9.1 in /usr/local/lib/python3.6/dist-packages (from keras==2.3.1) (1.19.4)\n",
            "Requirement already satisfied: h5py in /usr/local/lib/python3.6/dist-packages (from keras==2.3.1) (2.10.0)\n",
            "Requirement already satisfied: keras-preprocessing>=1.0.5 in /usr/local/lib/python3.6/dist-packages (from keras==2.3.1) (1.1.2)\n",
            "Requirement already satisfied: six>=1.9.0 in /usr/local/lib/python3.6/dist-packages (from keras==2.3.1) (1.15.0)\n",
            "Requirement already satisfied: pyyaml in /usr/local/lib/python3.6/dist-packages (from keras==2.3.1) (3.13)\n",
            "Collecting keras-applications>=1.0.6\n",
            "\u001b[?25l  Downloading https://files.pythonhosted.org/packages/71/e3/19762fdfc62877ae9102edf6342d71b28fbfd9dea3d2f96a882ce099b03f/Keras_Applications-1.0.8-py3-none-any.whl (50kB)\n",
            "\u001b[K     |████████████████████████████████| 51kB 5.3MB/s \n",
            "\u001b[?25hInstalling collected packages: keras-applications, keras\n",
            "  Found existing installation: Keras 2.4.3\n",
            "    Uninstalling Keras-2.4.3:\n",
            "      Successfully uninstalled Keras-2.4.3\n",
            "Successfully installed keras-2.3.1 keras-applications-1.0.8\n"
          ],
          "name": "stdout"
        }
      ]
    },
    {
      "cell_type": "code",
      "metadata": {
        "colab": {
          "base_uri": "https://localhost:8080/"
        },
        "id": "DcHL006pMV6v",
        "outputId": "f5e8c866-8350-4d2f-9685-224be5722fb3"
      },
      "source": [
        "import numpy as np\r\n",
        "import pandas as pd\r\n",
        "from tensorflow.keras.applications.inception_resnet_v2 import InceptionResNetV2, preprocess_input\r\n",
        "from tensorflow.keras import Sequential\r\n",
        "from tensorflow.keras.layers import Conv2D, Flatten, Dense\r\n",
        "\r\n",
        "HEIGHT = 300\r\n",
        "WIDTH = 300\r\n",
        "\r\n",
        "base_model = InceptionResNetV2(weights='imagenet', \r\n",
        "                      include_top=False, \r\n",
        "                      input_shape=(HEIGHT, WIDTH, 3))"
      ],
      "execution_count": null,
      "outputs": [
        {
          "output_type": "stream",
          "text": [
            "Downloading data from https://storage.googleapis.com/tensorflow/keras-applications/inception_resnet_v2/inception_resnet_v2_weights_tf_dim_ordering_tf_kernels_notop.h5\n",
            "219062272/219055592 [==============================] - 2s 0us/step\n"
          ],
          "name": "stdout"
        }
      ]
    },
    {
      "cell_type": "code",
      "metadata": {
        "colab": {
          "base_uri": "https://localhost:8080/"
        },
        "id": "GhXH-IwDM0RU",
        "outputId": "241e0dd2-833f-43bf-e14c-11f6915e2c1d"
      },
      "source": [
        "import os\r\n",
        "os.chdir('drive/MyDrive/dataset/')\r\n",
        "print(os.getcwd())"
      ],
      "execution_count": null,
      "outputs": [
        {
          "output_type": "stream",
          "text": [
            "/content/drive/MyDrive/dataset\n"
          ],
          "name": "stdout"
        }
      ]
    },
    {
      "cell_type": "code",
      "metadata": {
        "colab": {
          "base_uri": "https://localhost:8080/"
        },
        "id": "2MpzywTuM3v0",
        "outputId": "de93b019-c4f0-4511-f9c6-73738b9f4739"
      },
      "source": [
        "from tensorflow.keras.preprocessing.image import ImageDataGenerator\r\n",
        "\r\n",
        "TRAIN_DIR = \"train/\"\r\n",
        "BATCH_SIZE = 8\r\n",
        "\r\n",
        "train_datagen =  ImageDataGenerator(\r\n",
        "      preprocessing_function=preprocess_input,\r\n",
        "      # rescale=1./255,\r\n",
        "      rotation_range=90,\r\n",
        "      width_shift_range=0.2,\r\n",
        "      height_shift_range=0.2,\r\n",
        "      shear_range=0.2,\r\n",
        "      zoom_range=0.2,\r\n",
        "      horizontal_flip=True,\r\n",
        "      vertical_flip=True\r\n",
        "    )\r\n",
        "\r\n",
        "train_generator = train_datagen.flow_from_directory(TRAIN_DIR, \r\n",
        "                                                    target_size=(HEIGHT, WIDTH), \r\n",
        "                                                    batch_size=BATCH_SIZE)\r\n",
        "\r\n",
        "\r\n",
        "test_datagen =  ImageDataGenerator(\r\n",
        "      preprocessing_function=preprocess_input,\r\n",
        "      # rescale=1./255,\r\n",
        "      rotation_range=90,\r\n",
        "      width_shift_range=0.2,\r\n",
        "      height_shift_range=0.2,\r\n",
        "      shear_range=0.2,\r\n",
        "      zoom_range=0.2,\r\n",
        "      horizontal_flip=True,\r\n",
        "      vertical_flip=True\r\n",
        "    )\r\n",
        "validation_generator = test_datagen.flow_from_directory(\r\n",
        "        'test/',\r\n",
        "        target_size=(HEIGHT, WIDTH),\r\n",
        "        batch_size=BATCH_SIZE)"
      ],
      "execution_count": null,
      "outputs": [
        {
          "output_type": "stream",
          "text": [
            "Found 374 images belonging to 2 classes.\n",
            "Found 90 images belonging to 2 classes.\n"
          ],
          "name": "stdout"
        }
      ]
    },
    {
      "cell_type": "code",
      "metadata": {
        "id": "hs7uBmtlNAJI"
      },
      "source": [
        "from tensorflow.keras.layers import Dense, Activation, Flatten, Dropout\r\n",
        "from tensorflow.keras.models import Sequential, Model\r\n",
        "\r\n",
        "def build_finetune_model(base_model, dropout, fc_layers, num_classes):\r\n",
        "    for layer in base_model.layers[:-2]:\r\n",
        "        layer.trainable = False\r\n",
        "    for layer in base_model.layers[-2:]:\r\n",
        "        layer.trainable = True\r\n",
        "\r\n",
        "    x = base_model.output\r\n",
        "    x = Flatten()(x)\r\n",
        "    for fc in fc_layers:\r\n",
        "        # New FC layer, random init\r\n",
        "        x = Dense(fc, activation='relu')(x) \r\n",
        "        x = Dropout(dropout)(x)\r\n",
        "\r\n",
        "    # New softmax layer\r\n",
        "    predictions = Dense(num_classes, activation='softmax')(x) \r\n",
        "    \r\n",
        "    finetune_model = Model(inputs=base_model.input, outputs=predictions)\r\n",
        "\r\n",
        "    return finetune_model\r\n",
        "\r\n",
        "class_list = os.listdir(\"train/\")\r\n",
        "FC_LAYERS = [1024, 1024]\r\n",
        "dropout = 0.5\r\n",
        "\r\n",
        "finetune_model = build_finetune_model(base_model, \r\n",
        "                                      dropout=dropout, \r\n",
        "                                      fc_layers=FC_LAYERS, \r\n",
        "                                      num_classes=len(class_list))"
      ],
      "execution_count": null,
      "outputs": []
    },
    {
      "cell_type": "code",
      "metadata": {
        "colab": {
          "base_uri": "https://localhost:8080/"
        },
        "id": "vB-OyQHyNHHY",
        "outputId": "5429f82c-0ecb-4bed-b482-878816f62868"
      },
      "source": [
        "from tensorflow.keras.optimizers import Adam\r\n",
        "from tensorflow.keras.callbacks import ModelCheckpoint\r\n",
        "import matplotlib.pyplot as plt\r\n",
        "\r\n",
        "NUM_EPOCHS = 20\r\n",
        "BATCH_SIZE = 16\r\n",
        "num_train_images = 370\r\n",
        "\r\n",
        "adam = Adam(lr=0.00001)\r\n",
        "finetune_model.compile(adam, loss='categorical_crossentropy', metrics=['categorical_accuracy'])\r\n",
        "\r\n",
        "filepath=\"../eff_checkpoint/\" + \"RES\" + \"_inception_weights.h5\"\r\n",
        "checkpoint = ModelCheckpoint(filepath, monitor=[\"acc\"], verbose=1, mode='max')\r\n",
        "callbacks_list = [checkpoint]\r\n",
        "\r\n",
        "history = finetune_model.fit(train_generator, epochs=NUM_EPOCHS, workers=16, \r\n",
        "                                       steps_per_epoch=num_train_images // BATCH_SIZE, \r\n",
        "                                       shuffle=True, callbacks=callbacks_list, validation_data=validation_generator)"
      ],
      "execution_count": null,
      "outputs": [
        {
          "output_type": "stream",
          "text": [
            "Epoch 1/20\n",
            " 5/23 [=====>........................] - ETA: 1:33 - loss: 1.0503 - categorical_accuracy: 0.5362"
          ],
          "name": "stdout"
        },
        {
          "output_type": "stream",
          "text": [
            "/usr/local/lib/python3.6/dist-packages/PIL/Image.py:932: UserWarning: Palette images with Transparency expressed in bytes should be converted to RGBA images\n",
            "  \"Palette images with Transparency expressed in bytes should be \"\n"
          ],
          "name": "stderr"
        },
        {
          "output_type": "stream",
          "text": [
            "23/23 [==============================] - 188s 7s/step - loss: 1.0304 - categorical_accuracy: 0.5407 - val_loss: 0.4466 - val_categorical_accuracy: 0.8111\n",
            "\n",
            "Epoch 00001: saving model to ../eff_checkpoint/RES_inception_weights.h5\n",
            "Epoch 2/20\n",
            "23/23 [==============================] - 171s 7s/step - loss: 0.6997 - categorical_accuracy: 0.6869 - val_loss: 0.3830 - val_categorical_accuracy: 0.8333\n",
            "\n",
            "Epoch 00002: saving model to ../eff_checkpoint/RES_inception_weights.h5\n",
            "Epoch 3/20\n",
            "23/23 [==============================] - 171s 7s/step - loss: 0.5962 - categorical_accuracy: 0.7812 - val_loss: 0.4626 - val_categorical_accuracy: 0.8778\n",
            "\n",
            "Epoch 00003: saving model to ../eff_checkpoint/RES_inception_weights.h5\n",
            "Epoch 4/20\n",
            "23/23 [==============================] - 175s 7s/step - loss: 0.4792 - categorical_accuracy: 0.8094 - val_loss: 0.4690 - val_categorical_accuracy: 0.8222\n",
            "\n",
            "Epoch 00004: saving model to ../eff_checkpoint/RES_inception_weights.h5\n",
            "Epoch 5/20\n",
            "23/23 [==============================] - 172s 7s/step - loss: 0.5814 - categorical_accuracy: 0.7921 - val_loss: 0.3165 - val_categorical_accuracy: 0.8667\n",
            "\n",
            "Epoch 00005: saving model to ../eff_checkpoint/RES_inception_weights.h5\n",
            "Epoch 6/20\n",
            "23/23 [==============================] - 174s 8s/step - loss: 0.6120 - categorical_accuracy: 0.7140 - val_loss: 0.4899 - val_categorical_accuracy: 0.8667\n",
            "\n",
            "Epoch 00006: saving model to ../eff_checkpoint/RES_inception_weights.h5\n",
            "Epoch 7/20\n",
            "23/23 [==============================] - 178s 8s/step - loss: 0.3974 - categorical_accuracy: 0.8339 - val_loss: 0.3954 - val_categorical_accuracy: 0.8889\n",
            "\n",
            "Epoch 00007: saving model to ../eff_checkpoint/RES_inception_weights.h5\n",
            "Epoch 8/20\n",
            "23/23 [==============================] - 175s 8s/step - loss: 0.5253 - categorical_accuracy: 0.8073 - val_loss: 0.3860 - val_categorical_accuracy: 0.8556\n",
            "\n",
            "Epoch 00008: saving model to ../eff_checkpoint/RES_inception_weights.h5\n",
            "Epoch 9/20\n",
            "23/23 [==============================] - 175s 8s/step - loss: 0.4867 - categorical_accuracy: 0.7857 - val_loss: 0.4126 - val_categorical_accuracy: 0.8667\n",
            "\n",
            "Epoch 00009: saving model to ../eff_checkpoint/RES_inception_weights.h5\n",
            "Epoch 10/20\n",
            "23/23 [==============================] - 176s 8s/step - loss: 0.4518 - categorical_accuracy: 0.7998 - val_loss: 0.5274 - val_categorical_accuracy: 0.7778\n",
            "\n",
            "Epoch 00010: saving model to ../eff_checkpoint/RES_inception_weights.h5\n",
            "Epoch 11/20\n",
            "23/23 [==============================] - 174s 7s/step - loss: 0.3611 - categorical_accuracy: 0.8556 - val_loss: 0.4718 - val_categorical_accuracy: 0.8111\n",
            "\n",
            "Epoch 00011: saving model to ../eff_checkpoint/RES_inception_weights.h5\n",
            "Epoch 12/20\n",
            "23/23 [==============================] - 173s 7s/step - loss: 0.3298 - categorical_accuracy: 0.8512 - val_loss: 0.5314 - val_categorical_accuracy: 0.8778\n",
            "\n",
            "Epoch 00012: saving model to ../eff_checkpoint/RES_inception_weights.h5\n",
            "Epoch 13/20\n",
            "23/23 [==============================] - 173s 7s/step - loss: 0.2679 - categorical_accuracy: 0.8953 - val_loss: 0.4084 - val_categorical_accuracy: 0.8556\n",
            "\n",
            "Epoch 00013: saving model to ../eff_checkpoint/RES_inception_weights.h5\n",
            "Epoch 14/20\n",
            "23/23 [==============================] - 175s 8s/step - loss: 0.3193 - categorical_accuracy: 0.9107 - val_loss: 0.5489 - val_categorical_accuracy: 0.8444\n",
            "\n",
            "Epoch 00014: saving model to ../eff_checkpoint/RES_inception_weights.h5\n",
            "Epoch 15/20\n",
            "23/23 [==============================] - 174s 7s/step - loss: 0.3295 - categorical_accuracy: 0.8733 - val_loss: 0.3014 - val_categorical_accuracy: 0.8778\n",
            "\n",
            "Epoch 00015: saving model to ../eff_checkpoint/RES_inception_weights.h5\n",
            "Epoch 16/20\n",
            "23/23 [==============================] - 174s 8s/step - loss: 0.4325 - categorical_accuracy: 0.8458 - val_loss: 0.4208 - val_categorical_accuracy: 0.8778\n",
            "\n",
            "Epoch 00016: saving model to ../eff_checkpoint/RES_inception_weights.h5\n",
            "Epoch 17/20\n",
            "23/23 [==============================] - 176s 8s/step - loss: 0.2736 - categorical_accuracy: 0.8778 - val_loss: 0.3971 - val_categorical_accuracy: 0.8444\n",
            "\n",
            "Epoch 00017: saving model to ../eff_checkpoint/RES_inception_weights.h5\n",
            "Epoch 18/20\n",
            "23/23 [==============================] - 174s 7s/step - loss: 0.3761 - categorical_accuracy: 0.8689 - val_loss: 0.4905 - val_categorical_accuracy: 0.8444\n",
            "\n",
            "Epoch 00018: saving model to ../eff_checkpoint/RES_inception_weights.h5\n",
            "Epoch 19/20\n",
            "23/23 [==============================] - 180s 8s/step - loss: 0.4067 - categorical_accuracy: 0.8439 - val_loss: 0.4218 - val_categorical_accuracy: 0.9000\n",
            "\n",
            "Epoch 00019: saving model to ../eff_checkpoint/RES_inception_weights.h5\n",
            "Epoch 20/20\n",
            "23/23 [==============================] - 173s 7s/step - loss: 0.5372 - categorical_accuracy: 0.7726 - val_loss: 0.4018 - val_categorical_accuracy: 0.8556\n",
            "\n",
            "Epoch 00020: saving model to ../eff_checkpoint/RES_inception_weights.h5\n"
          ],
          "name": "stdout"
        }
      ]
    },
    {
      "cell_type": "code",
      "metadata": {
        "colab": {
          "base_uri": "https://localhost:8080/",
          "height": 295
        },
        "id": "PWPZr_e6NfC4",
        "outputId": "23d4a976-f1a5-4871-8d42-129d5caf4447"
      },
      "source": [
        "import matplotlib.pyplot as plt\r\n",
        "plt.plot(history.history['categorical_accuracy'])\r\n",
        "plt.plot(history.history['val_categorical_accuracy'])\r\n",
        "plt.title('model accuracy')\r\n",
        "plt.ylabel('accuracy')\r\n",
        "plt.xlabel('epoch')\r\n",
        "plt.legend(['train', 'val'], loc='upper left')\r\n",
        "plt.show()"
      ],
      "execution_count": null,
      "outputs": [
        {
          "output_type": "display_data",
          "data": {
            "image/png": "[encoded data removed]",
            "text/plain": [
              "<Figure size 432x288 with 1 Axes>"
            ]
          },
          "metadata": {
            "tags": [],
            "needs_background": "light"
          }
        }
      ]
    },
    {
      "cell_type": "code",
      "metadata": {
        "colab": {
          "base_uri": "https://localhost:8080/"
        },
        "id": "8EgaIK-AoDqq",
        "outputId": "c6878089-a3cc-4a69-9881-2d764a7b4fcf"
      },
      "source": [
        "finetune_model.evaluate(validation_generator)"
      ],
      "execution_count": null,
      "outputs": [
        {
          "output_type": "stream",
          "text": [
            "12/12 [==============================] - 49s 4s/step - loss: 0.3832 - categorical_accuracy: 0.8444\n"
          ],
          "name": "stdout"
        },
        {
          "output_type": "execute_result",
          "data": {
            "text/plain": [
              "[0.38317954540252686, 0.8444444537162781]"
            ]
          },
          "metadata": {
            "tags": []
          },
          "execution_count": 23
        }
      ]
    },
    {
      "cell_type": "code",
      "metadata": {
        "id": "UzdUVA93oIy1"
      },
      "source": [
        "from sklearn.metrics import confusion_matrix\r\n",
        "from sklearn.metrics import plot_confusion_matrix"
      ],
      "execution_count": null,
      "outputs": []
    },
    {
      "cell_type": "code",
      "metadata": {
        "id": "6lBYfiveohZd"
      },
      "source": [
        "predictions1 = finetune_model.predict(x=validation_generator, verbose=0)\r\n",
        "cm = confusion_matrix(y_true=validation_generator.classes, y_pred=np.argmax(predictions1, axis=-1))"
      ],
      "execution_count": null,
      "outputs": []
    },
    {
      "cell_type": "code",
      "metadata": {
        "colab": {
          "base_uri": "https://localhost:8080/",
          "height": 295
        },
        "id": "pYXOINVMokfB",
        "outputId": "db306461-194b-4756-db5a-143a7546484d"
      },
      "source": [
        "import seaborn as sns\r\n",
        "import matplotlib.pyplot as plt     \r\n",
        "\r\n",
        "ax= plt.subplot()\r\n",
        "sns.heatmap(cm, annot=True, ax = ax); #annot=True to annotate cells\r\n",
        "\r\n",
        "# labels, title and ticks\r\n",
        "ax.set_xlabel('Predicted labels');ax.set_ylabel('True labels'); \r\n",
        "ax.set_title('Confusion Matrix'); \r\n",
        "ax.xaxis.set_ticklabels(['EC', 'NEC']); ax.yaxis.set_ticklabels(['EC', 'NEC']);"
      ],
      "execution_count": null,
      "outputs": [
        {
          "output_type": "display_data",
          "data": {
            "image/png": "[encoded data removed]",
            "text/plain": [
              "<Figure size 432x288 with 2 Axes>"
            ]
          },
          "metadata": {
            "tags": [],
            "needs_background": "light"
          }
        }
      ]
    },
    {
      "cell_type": "code",
      "metadata": {
        "id": "ycENhrVvozs-"
      },
      "source": [
        "finetune_model.save('resnet_inception_model.h5')"
      ],
      "execution_count": null,
      "outputs": []
    },
    {
      "cell_type": "code",
      "metadata": {
        "id": "5mCQKXbEpSW5"
      },
      "source": [
        ""
      ],
      "execution_count": null,
      "outputs": []
    }
  ]
}