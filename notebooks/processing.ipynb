{
 "cells": [
  {
   "cell_type": "markdown",
   "metadata": {},
   "source": [
    "## Processing\n",
    "* preprocessed the images i recieved and seprated the good images from bad\n",
    "* after this the result of 137 of ezcema and 158 of not ezcema\n",
    "* scrapped 95 images of hands ezcema from derment \n"
   ]
  },
  {
   "cell_type": "code",
   "execution_count": 1,
   "metadata": {},
   "outputs": [
    {
     "name": "stderr",
     "output_type": "stream",
     "text": [
      "Using TensorFlow backend.\n"
     ]
    },
    {
     "name": "stdout",
     "output_type": "stream",
     "text": [
      "Help on package keras:\n",
      "\n",
      "NAME\n",
      "    keras\n",
      "\n",
      "PACKAGE CONTENTS\n",
      "    activations\n",
      "    applications (package)\n",
      "    backend (package)\n",
      "    callbacks (package)\n",
      "    constraints\n",
      "    datasets (package)\n",
      "    engine (package)\n",
      "    initializers\n",
      "    layers (package)\n",
      "    legacy (package)\n",
      "    losses\n",
      "    metrics\n",
      "    models\n",
      "    objectives\n",
      "    optimizers\n",
      "    preprocessing (package)\n",
      "    regularizers\n",
      "    utils (package)\n",
      "    wrappers (package)\n",
      "\n",
      "DATA\n",
      "    absolute_import = _Feature((2, 5, 0, 'alpha', 1), (3, 0, 0, 'alpha', 0...\n",
      "\n",
      "VERSION\n",
      "    2.3.1\n",
      "\n",
      "FILE\n",
      "    c:\\users\\emyli\\appdata\\roaming\\python\\python37\\site-packages\\keras\\__init__.py\n",
      "\n",
      "\n",
      "None\n"
     ]
    }
   ],
   "source": [
    "import keras\n",
    "\n",
    "print(help(keras))"
   ]
  },
  {
   "cell_type": "code",
   "execution_count": null,
   "metadata": {},
   "outputs": [],
   "source": []
  }
 ],
 "metadata": {
  "kernelspec": {
   "display_name": "Python 3",
   "language": "python",
   "name": "python3"
  },
  "language_info": {
   "codemirror_mode": {
    "name": "ipython",
    "version": 3
   },
   "file_extension": ".py",
   "mimetype": "text/x-python",
   "name": "python",
   "nbconvert_exporter": "python",
   "pygments_lexer": "ipython3",
   "version": "3.7.8"
  }
 },
 "nbformat": 4,
 "nbformat_minor": 4
}
