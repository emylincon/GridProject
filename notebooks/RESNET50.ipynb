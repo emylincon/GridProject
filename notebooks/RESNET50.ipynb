{
  "nbformat": 4,
  "nbformat_minor": 0,
  "metadata": {
    "colab": {
      "name": "Grid_Project.ipynb",
      "provenance": [],
      "toc_visible": true,
      "authorship_tag": "ABX9TyPFZY7FdXuiS5ipupx0svfn",
      "include_colab_link": true
    },
    "kernelspec": {
      "name": "python3",
      "display_name": "Python 3"
    }
  },
  "cells": [
    {
      "cell_type": "markdown",
      "metadata": {
        "id": "view-in-github",
        "colab_type": "text"
      },
      "source": [
        "<a href=\"https://colab.research.google.com/github/emylincon/GridProject/blob/master/RESNET50.ipynb\" target=\"_parent\"><img src=\"https://colab.research.google.com/assets/colab-badge.svg\" alt=\"Open In Colab\"/></a>"
      ]
    },
    {
      "cell_type": "code",
      "metadata": {
        "id": "FC84oHxMkk6q"
      },
      "source": [
        "from google.colab import drive"
      ],
      "execution_count": null,
      "outputs": []
    },
    {
      "cell_type": "code",
      "metadata": {
        "colab": {
          "base_uri": "https://localhost:8080/"
        },
        "id": "kqQ3vX269EPR",
        "outputId": "910aa612-edd2-4376-ac7b-f159e18dc693"
      },
      "source": [
        "drive.mount('/content/drive')"
      ],
      "execution_count": null,
      "outputs": [
        {
          "output_type": "stream",
          "text": [
            "Mounted at /content/drive\n"
          ],
          "name": "stdout"
        }
      ]
    },
    {
      "cell_type": "code",
      "metadata": {
        "colab": {
          "base_uri": "https://localhost:8080/"
        },
        "id": "anQbYxlD9V8h",
        "outputId": "fcceb414-fb23-4493-9521-5d70206e29ef"
      },
      "source": [
        "! cd \"drive/MyDrive/dataset/\"\n",
        "! ls \"drive/MyDrive/dataset/\""
      ],
      "execution_count": null,
      "outputs": [
        {
          "output_type": "stream",
          "text": [
            "bimodel  my_model.h5  test  train\n"
          ],
          "name": "stdout"
        }
      ]
    },
    {
      "cell_type": "code",
      "metadata": {
        "colab": {
          "base_uri": "https://localhost:8080/"
        },
        "id": "9WAN89goJlqH",
        "outputId": "479282d9-e361-4ad3-b75a-49666e6e6703"
      },
      "source": [
        "! pip3 install keras==2.3.1"
      ],
      "execution_count": null,
      "outputs": [
        {
          "output_type": "stream",
          "text": [
            "Collecting keras==2.3.1\n",
            "\u001b[?25l  Downloading https://files.pythonhosted.org/packages/ad/fd/6bfe87920d7f4fd475acd28500a42482b6b84479832bdc0fe9e589a60ceb/Keras-2.3.1-py2.py3-none-any.whl (377kB)\n",
            "\r\u001b[K     |▉                               | 10kB 16.5MB/s eta 0:00:01\r\u001b[K     |█▊                              | 20kB 12.8MB/s eta 0:00:01\r\u001b[K     |██▋                             | 30kB 8.8MB/s eta 0:00:01\r\u001b[K     |███▌                            | 40kB 7.6MB/s eta 0:00:01\r\u001b[K     |████▍                           | 51kB 4.5MB/s eta 0:00:01\r\u001b[K     |█████▏                          | 61kB 5.1MB/s eta 0:00:01\r\u001b[K     |██████                          | 71kB 5.2MB/s eta 0:00:01\r\u001b[K     |███████                         | 81kB 5.4MB/s eta 0:00:01\r\u001b[K     |███████▉                        | 92kB 5.8MB/s eta 0:00:01\r\u001b[K     |████████▊                       | 102kB 5.8MB/s eta 0:00:01\r\u001b[K     |█████████▌                      | 112kB 5.8MB/s eta 0:00:01\r\u001b[K     |██████████▍                     | 122kB 5.8MB/s eta 0:00:01\r\u001b[K     |███████████▎                    | 133kB 5.8MB/s eta 0:00:01\r\u001b[K     |████████████▏                   | 143kB 5.8MB/s eta 0:00:01\r\u001b[K     |█████████████                   | 153kB 5.8MB/s eta 0:00:01\r\u001b[K     |█████████████▉                  | 163kB 5.8MB/s eta 0:00:01\r\u001b[K     |██████████████▊                 | 174kB 5.8MB/s eta 0:00:01\r\u001b[K     |███████████████▋                | 184kB 5.8MB/s eta 0:00:01\r\u001b[K     |████████████████▌               | 194kB 5.8MB/s eta 0:00:01\r\u001b[K     |█████████████████▍              | 204kB 5.8MB/s eta 0:00:01\r\u001b[K     |██████████████████▏             | 215kB 5.8MB/s eta 0:00:01\r\u001b[K     |███████████████████             | 225kB 5.8MB/s eta 0:00:01\r\u001b[K     |████████████████████            | 235kB 5.8MB/s eta 0:00:01\r\u001b[K     |████████████████████▉           | 245kB 5.8MB/s eta 0:00:01\r\u001b[K     |█████████████████████▊          | 256kB 5.8MB/s eta 0:00:01\r\u001b[K     |██████████████████████▌         | 266kB 5.8MB/s eta 0:00:01\r\u001b[K     |███████████████████████▍        | 276kB 5.8MB/s eta 0:00:01\r\u001b[K     |████████████████████████▎       | 286kB 5.8MB/s eta 0:00:01\r\u001b[K     |█████████████████████████▏      | 296kB 5.8MB/s eta 0:00:01\r\u001b[K     |██████████████████████████      | 307kB 5.8MB/s eta 0:00:01\r\u001b[K     |██████████████████████████▉     | 317kB 5.8MB/s eta 0:00:01\r\u001b[K     |███████████████████████████▊    | 327kB 5.8MB/s eta 0:00:01\r\u001b[K     |████████████████████████████▋   | 337kB 5.8MB/s eta 0:00:01\r\u001b[K     |█████████████████████████████▌  | 348kB 5.8MB/s eta 0:00:01\r\u001b[K     |██████████████████████████████▍ | 358kB 5.8MB/s eta 0:00:01\r\u001b[K     |███████████████████████████████▏| 368kB 5.8MB/s eta 0:00:01\r\u001b[K     |████████████████████████████████| 378kB 5.8MB/s \n",
            "\u001b[?25hRequirement already satisfied: h5py in /usr/local/lib/python3.6/dist-packages (from keras==2.3.1) (2.10.0)\n",
            "Requirement already satisfied: scipy>=0.14 in /usr/local/lib/python3.6/dist-packages (from keras==2.3.1) (1.4.1)\n",
            "Collecting keras-applications>=1.0.6\n",
            "\u001b[?25l  Downloading https://files.pythonhosted.org/packages/71/e3/19762fdfc62877ae9102edf6342d71b28fbfd9dea3d2f96a882ce099b03f/Keras_Applications-1.0.8-py3-none-any.whl (50kB)\n",
            "\r\u001b[K     |██████▌                         | 10kB 30.4MB/s eta 0:00:01\r\u001b[K     |█████████████                   | 20kB 33.0MB/s eta 0:00:01\r\u001b[K     |███████████████████▍            | 30kB 40.2MB/s eta 0:00:01\r\u001b[K     |█████████████████████████▉      | 40kB 28.1MB/s eta 0:00:01\r\u001b[K     |████████████████████████████████| 51kB 7.3MB/s \n",
            "\u001b[?25hRequirement already satisfied: numpy>=1.9.1 in /usr/local/lib/python3.6/dist-packages (from keras==2.3.1) (1.18.5)\n",
            "Requirement already satisfied: pyyaml in /usr/local/lib/python3.6/dist-packages (from keras==2.3.1) (3.13)\n",
            "Requirement already satisfied: six>=1.9.0 in /usr/local/lib/python3.6/dist-packages (from keras==2.3.1) (1.15.0)\n",
            "Requirement already satisfied: keras-preprocessing>=1.0.5 in /usr/local/lib/python3.6/dist-packages (from keras==2.3.1) (1.1.2)\n",
            "Installing collected packages: keras-applications, keras\n",
            "  Found existing installation: Keras 2.4.3\n",
            "    Uninstalling Keras-2.4.3:\n",
            "      Successfully uninstalled Keras-2.4.3\n",
            "Successfully installed keras-2.3.1 keras-applications-1.0.8\n"
          ],
          "name": "stdout"
        }
      ]
    },
    {
      "cell_type": "code",
      "metadata": {
        "id": "v5el2K8z-L6y"
      },
      "source": [
        "import numpy as np\n",
        "import pandas as pd\n",
        "from tensorflow.keras.preprocessing.image import load_img, img_to_array\n",
        "\n",
        "from tensorflow.keras.applications.resnet import preprocess_input"
      ],
      "execution_count": null,
      "outputs": []
    },
    {
      "cell_type": "code",
      "metadata": {
        "id": "nQ7w7drT-7Nd"
      },
      "source": [
        "img_width, img_height = 300, 300"
      ],
      "execution_count": null,
      "outputs": []
    },
    {
      "cell_type": "code",
      "metadata": {
        "id": "XugEfc8__A_d"
      },
      "source": [
        "def preprocess_image(path):\n",
        "    img = load_img(path, target_size = (img_height, img_width))\n",
        "    a = img_to_array(img)\n",
        "    a = np.expand_dims(a, axis = 0)\n",
        "    a = preprocess_input(a)\n",
        "    return a"
      ],
      "execution_count": null,
      "outputs": []
    },
    {
      "cell_type": "code",
      "metadata": {
        "id": "SwOOLjLW_I43"
      },
      "source": [
        "import os\n",
        "os.chdir('drive/MyDrive/dataset/')"
      ],
      "execution_count": null,
      "outputs": []
    },
    {
      "cell_type": "code",
      "metadata": {
        "colab": {
          "base_uri": "https://localhost:8080/"
        },
        "id": "MdJdCZEK_h11",
        "outputId": "9f675abf-43be-4646-9ee5-29546d51a3a6"
      },
      "source": [
        "! ls"
      ],
      "execution_count": null,
      "outputs": [
        {
          "output_type": "stream",
          "text": [
            "bimodel  my_model.h5  test  train\n"
          ],
          "name": "stdout"
        }
      ]
    },
    {
      "cell_type": "markdown",
      "metadata": {
        "id": "yYNuitP4WX7m"
      },
      "source": [
        "# Using RESNET50"
      ]
    },
    {
      "cell_type": "code",
      "metadata": {
        "id": "i4EN4GP2_khD",
        "colab": {
          "base_uri": "https://localhost:8080/"
        },
        "outputId": "f9cfb94e-8863-4137-93ad-f0451f75ff0c"
      },
      "source": [
        "from tensorflow.keras.applications.resnet50 import ResNet50, preprocess_input\n",
        "from tensorflow.keras import Sequential\n",
        "from tensorflow.keras.layers import Conv2D, Flatten, Dense\n",
        "\n",
        "HEIGHT = 300\n",
        "WIDTH = 300\n",
        "\n",
        "base_model = ResNet50(weights='imagenet', \n",
        "                      include_top=False, \n",
        "                      input_shape=(HEIGHT, WIDTH, 3))"
      ],
      "execution_count": null,
      "outputs": [
        {
          "output_type": "stream",
          "text": [
            "Downloading data from https://storage.googleapis.com/tensorflow/keras-applications/resnet/resnet50_weights_tf_dim_ordering_tf_kernels_notop.h5\n",
            "94773248/94765736 [==============================] - 1s 0us/step\n"
          ],
          "name": "stdout"
        }
      ]
    },
    {
      "cell_type": "code",
      "metadata": {
        "colab": {
          "base_uri": "https://localhost:8080/"
        },
        "id": "uqQ8RuDSDqFO",
        "outputId": "d46045cb-2589-44c7-91c3-82013287bc5b"
      },
      "source": [
        "print(os.getcwd())"
      ],
      "execution_count": null,
      "outputs": [
        {
          "output_type": "stream",
          "text": [
            "/content/drive/MyDrive/dataset\n"
          ],
          "name": "stdout"
        }
      ]
    },
    {
      "cell_type": "markdown",
      "metadata": {
        "id": "Ad_k-WfYWUgE"
      },
      "source": [
        "# DATA PREPROCESSING"
      ]
    },
    {
      "cell_type": "code",
      "metadata": {
        "colab": {
          "base_uri": "https://localhost:8080/"
        },
        "id": "SuD-m_n1AC9c",
        "outputId": "640e8518-f53a-4e0c-ce60-f26e9a2cec1c"
      },
      "source": [
        "\n",
        "from tensorflow.keras.preprocessing.image import ImageDataGenerator\n",
        "\n",
        "TRAIN_DIR = \"train/\"\n",
        "HEIGHT = 300\n",
        "WIDTH = 300\n",
        "BATCH_SIZE = 8\n",
        "\n",
        "train_datagen =  ImageDataGenerator(\n",
        "      preprocessing_function=preprocess_input,\n",
        "      rotation_range=90,\n",
        "      horizontal_flip=True,\n",
        "      vertical_flip=True\n",
        "    )\n",
        "\n",
        "train_generator = train_datagen.flow_from_directory(TRAIN_DIR, \n",
        "                                                    target_size=(HEIGHT, WIDTH), \n",
        "                                                    batch_size=BATCH_SIZE)\n",
        "\n",
        "\n",
        "test_datagen =  ImageDataGenerator(\n",
        "      preprocessing_function=preprocess_input,\n",
        "      rotation_range=90,\n",
        "      horizontal_flip=True,\n",
        "      vertical_flip=True\n",
        "    )\n",
        "validation_generator = test_datagen.flow_from_directory(\n",
        "        'test/',\n",
        "        target_size=(300, 300),\n",
        "        batch_size=BATCH_SIZE)"
      ],
      "execution_count": null,
      "outputs": [
        {
          "output_type": "stream",
          "text": [
            "Found 374 images belonging to 2 classes.\n",
            "Found 90 images belonging to 2 classes.\n"
          ],
          "name": "stdout"
        }
      ]
    },
    {
      "cell_type": "markdown",
      "metadata": {
        "id": "dFQ9FlauWJt1"
      },
      "source": [
        "# BUILDING MODEL"
      ]
    },
    {
      "cell_type": "code",
      "metadata": {
        "id": "wAr4oSaMD9O-"
      },
      "source": [
        "from tensorflow.keras.layers import Dense, Activation, Flatten, Dropout\n",
        "from tensorflow.keras.models import Sequential, Model\n",
        "\n",
        "def build_finetune_model(base_model, dropout, fc_layers, num_classes):\n",
        "    for layer in base_model.layers:\n",
        "        layer.trainable = False\n",
        "\n",
        "    x = base_model.output\n",
        "    x = Flatten()(x)\n",
        "    for fc in fc_layers:\n",
        "        # New FC layer, random init\n",
        "        x = Dense(fc, activation='relu')(x) \n",
        "        x = Dropout(dropout)(x)\n",
        "\n",
        "    # New softmax layer\n",
        "    predictions = Dense(num_classes, activation='softmax')(x) \n",
        "    \n",
        "    finetune_model = Model(inputs=base_model.input, outputs=predictions)\n",
        "\n",
        "    return finetune_model\n",
        "\n",
        "class_list = os.listdir(\"train/\")\n",
        "FC_LAYERS = [1024, 1024]\n",
        "dropout = 0.5\n",
        "\n",
        "finetune_model = build_finetune_model(base_model, \n",
        "                                      dropout=dropout, \n",
        "                                      fc_layers=FC_LAYERS, \n",
        "                                      num_classes=len(class_list))"
      ],
      "execution_count": null,
      "outputs": []
    },
    {
      "cell_type": "markdown",
      "metadata": {
        "id": "vJjM6Us9Wgai"
      },
      "source": [
        "# COMPLILE AND TRAIN MODEL"
      ]
    },
    {
      "cell_type": "code",
      "metadata": {
        "colab": {
          "base_uri": "https://localhost:8080/"
        },
        "id": "wiZv34RzFFWN",
        "outputId": "ae53f24b-edcb-4d3e-929b-900dc516cd72"
      },
      "source": [
        "from tensorflow.keras.optimizers import SGD, Adam\n",
        "from tensorflow.keras.callbacks import ModelCheckpoint\n",
        "import matplotlib.pyplot as plt\n",
        "\n",
        "NUM_EPOCHS = 30\n",
        "BATCH_SIZE = 16\n",
        "num_train_images = 370\n",
        "\n",
        "adam = Adam(lr=0.00001)\n",
        "finetune_model.compile(adam, loss='categorical_crossentropy', metrics=['accuracy'])\n",
        "\n",
        "filepath=\"./checkpoints/\" + \"ResNet50\" + \"_model_weights.h5\"\n",
        "checkpoint = ModelCheckpoint(filepath, monitor=[\"acc\"], verbose=1, mode='max')\n",
        "callbacks_list = [checkpoint]\n",
        "\n",
        "history = finetune_model.fit_generator(train_generator, epochs=NUM_EPOCHS, workers=16, \n",
        "                                       steps_per_epoch=num_train_images // BATCH_SIZE, \n",
        "                                       shuffle=True, callbacks=callbacks_list)"
      ],
      "execution_count": null,
      "outputs": [
        {
          "output_type": "stream",
          "text": [
            "WARNING:tensorflow:From <ipython-input-16-33cedd231dd3>:18: Model.fit_generator (from tensorflow.python.keras.engine.training) is deprecated and will be removed in a future version.\n",
            "Instructions for updating:\n",
            "Please use Model.fit, which supports generators.\n",
            "Epoch 1/30\n",
            "12/23 [==============>...............] - ETA: 32s - loss: 1.0035 - accuracy: 0.6277"
          ],
          "name": "stdout"
        },
        {
          "output_type": "stream",
          "text": [
            "/usr/local/lib/python3.6/dist-packages/PIL/Image.py:952: UserWarning: Palette images with Transparency expressed in bytes should be converted to RGBA images\n",
            "  \"Palette images with Transparency expressed in bytes should be \"\n"
          ],
          "name": "stderr"
        },
        {
          "output_type": "stream",
          "text": [
            "23/23 [==============================] - ETA: 0s - loss: 0.9584 - accuracy: 0.6813\n",
            "Epoch 00001: saving model to ./checkpoints/ResNet50_model_weights.h5\n",
            "23/23 [==============================] - 73s 3s/step - loss: 0.9584 - accuracy: 0.6813\n",
            "Epoch 2/30\n",
            "23/23 [==============================] - ETA: 0s - loss: 0.7219 - accuracy: 0.8478\n",
            "Epoch 00002: saving model to ./checkpoints/ResNet50_model_weights.h5\n",
            "23/23 [==============================] - 74s 3s/step - loss: 0.7219 - accuracy: 0.8478\n",
            "Epoch 3/30\n",
            "23/23 [==============================] - ETA: 0s - loss: 0.4189 - accuracy: 0.9011\n",
            "Epoch 00003: saving model to ./checkpoints/ResNet50_model_weights.h5\n",
            "23/23 [==============================] - 75s 3s/step - loss: 0.4189 - accuracy: 0.9011\n",
            "Epoch 4/30\n",
            "23/23 [==============================] - ETA: 0s - loss: 0.3917 - accuracy: 0.8626\n",
            "Epoch 00004: saving model to ./checkpoints/ResNet50_model_weights.h5\n",
            "23/23 [==============================] - 71s 3s/step - loss: 0.3917 - accuracy: 0.8626\n",
            "Epoch 5/30\n",
            "23/23 [==============================] - ETA: 0s - loss: 0.4317 - accuracy: 0.8859\n",
            "Epoch 00005: saving model to ./checkpoints/ResNet50_model_weights.h5\n",
            "23/23 [==============================] - 72s 3s/step - loss: 0.4317 - accuracy: 0.8859\n",
            "Epoch 6/30\n",
            "23/23 [==============================] - ETA: 0s - loss: 0.3358 - accuracy: 0.9066\n",
            "Epoch 00006: saving model to ./checkpoints/ResNet50_model_weights.h5\n",
            "23/23 [==============================] - 72s 3s/step - loss: 0.3358 - accuracy: 0.9066\n",
            "Epoch 7/30\n",
            "23/23 [==============================] - ETA: 0s - loss: 0.4161 - accuracy: 0.8956\n",
            "Epoch 00007: saving model to ./checkpoints/ResNet50_model_weights.h5\n",
            "23/23 [==============================] - 71s 3s/step - loss: 0.4161 - accuracy: 0.8956\n",
            "Epoch 8/30\n",
            "23/23 [==============================] - ETA: 0s - loss: 0.4971 - accuracy: 0.8913\n",
            "Epoch 00008: saving model to ./checkpoints/ResNet50_model_weights.h5\n",
            "23/23 [==============================] - 73s 3s/step - loss: 0.4971 - accuracy: 0.8913\n",
            "Epoch 9/30\n",
            "23/23 [==============================] - ETA: 0s - loss: 0.2295 - accuracy: 0.9231\n",
            "Epoch 00009: saving model to ./checkpoints/ResNet50_model_weights.h5\n",
            "23/23 [==============================] - 73s 3s/step - loss: 0.2295 - accuracy: 0.9231\n",
            "Epoch 10/30\n",
            "23/23 [==============================] - ETA: 0s - loss: 0.1916 - accuracy: 0.9511\n",
            "Epoch 00010: saving model to ./checkpoints/ResNet50_model_weights.h5\n",
            "23/23 [==============================] - 73s 3s/step - loss: 0.1916 - accuracy: 0.9511\n",
            "Epoch 11/30\n",
            "23/23 [==============================] - ETA: 0s - loss: 0.3171 - accuracy: 0.9076\n",
            "Epoch 00011: saving model to ./checkpoints/ResNet50_model_weights.h5\n",
            "23/23 [==============================] - 77s 3s/step - loss: 0.3171 - accuracy: 0.9076\n",
            "Epoch 12/30\n",
            "23/23 [==============================] - ETA: 0s - loss: 0.2901 - accuracy: 0.8967\n",
            "Epoch 00012: saving model to ./checkpoints/ResNet50_model_weights.h5\n",
            "23/23 [==============================] - 74s 3s/step - loss: 0.2901 - accuracy: 0.8967\n",
            "Epoch 13/30\n",
            "23/23 [==============================] - ETA: 0s - loss: 0.4519 - accuracy: 0.9185\n",
            "Epoch 00013: saving model to ./checkpoints/ResNet50_model_weights.h5\n",
            "23/23 [==============================] - 73s 3s/step - loss: 0.4519 - accuracy: 0.9185\n",
            "Epoch 14/30\n",
            "23/23 [==============================] - ETA: 0s - loss: 0.3554 - accuracy: 0.9239\n",
            "Epoch 00014: saving model to ./checkpoints/ResNet50_model_weights.h5\n",
            "23/23 [==============================] - 74s 3s/step - loss: 0.3554 - accuracy: 0.9239\n",
            "Epoch 15/30\n",
            "23/23 [==============================] - ETA: 0s - loss: 0.3543 - accuracy: 0.9231\n",
            "Epoch 00015: saving model to ./checkpoints/ResNet50_model_weights.h5\n",
            "23/23 [==============================] - 72s 3s/step - loss: 0.3543 - accuracy: 0.9231\n",
            "Epoch 16/30\n",
            "23/23 [==============================] - ETA: 0s - loss: 0.3450 - accuracy: 0.9130\n",
            "Epoch 00016: saving model to ./checkpoints/ResNet50_model_weights.h5\n",
            "23/23 [==============================] - 72s 3s/step - loss: 0.3450 - accuracy: 0.9130\n",
            "Epoch 17/30\n",
            "23/23 [==============================] - ETA: 0s - loss: 0.3471 - accuracy: 0.9239\n",
            "Epoch 00017: saving model to ./checkpoints/ResNet50_model_weights.h5\n",
            "23/23 [==============================] - 72s 3s/step - loss: 0.3471 - accuracy: 0.9239\n",
            "Epoch 18/30\n",
            "23/23 [==============================] - ETA: 0s - loss: 0.1922 - accuracy: 0.9451\n",
            "Epoch 00018: saving model to ./checkpoints/ResNet50_model_weights.h5\n",
            "23/23 [==============================] - 71s 3s/step - loss: 0.1922 - accuracy: 0.9451\n",
            "Epoch 19/30\n",
            "23/23 [==============================] - ETA: 0s - loss: 0.2275 - accuracy: 0.9402\n",
            "Epoch 00019: saving model to ./checkpoints/ResNet50_model_weights.h5\n",
            "23/23 [==============================] - 72s 3s/step - loss: 0.2275 - accuracy: 0.9402\n",
            "Epoch 20/30\n",
            "23/23 [==============================] - ETA: 0s - loss: 0.1998 - accuracy: 0.9402\n",
            "Epoch 00020: saving model to ./checkpoints/ResNet50_model_weights.h5\n",
            "23/23 [==============================] - 71s 3s/step - loss: 0.1998 - accuracy: 0.9402\n",
            "Epoch 21/30\n",
            "23/23 [==============================] - ETA: 0s - loss: 0.2539 - accuracy: 0.9565\n",
            "Epoch 00021: saving model to ./checkpoints/ResNet50_model_weights.h5\n",
            "23/23 [==============================] - 72s 3s/step - loss: 0.2539 - accuracy: 0.9565\n",
            "Epoch 22/30\n",
            "23/23 [==============================] - ETA: 0s - loss: 0.0968 - accuracy: 0.9615\n",
            "Epoch 00022: saving model to ./checkpoints/ResNet50_model_weights.h5\n",
            "23/23 [==============================] - 72s 3s/step - loss: 0.0968 - accuracy: 0.9615\n",
            "Epoch 23/30\n",
            "23/23 [==============================] - ETA: 0s - loss: 0.1329 - accuracy: 0.9511\n",
            "Epoch 00023: saving model to ./checkpoints/ResNet50_model_weights.h5\n",
            "23/23 [==============================] - 71s 3s/step - loss: 0.1329 - accuracy: 0.9511\n",
            "Epoch 24/30\n",
            "23/23 [==============================] - ETA: 0s - loss: 0.4718 - accuracy: 0.9011\n",
            "Epoch 00024: saving model to ./checkpoints/ResNet50_model_weights.h5\n",
            "23/23 [==============================] - 72s 3s/step - loss: 0.4718 - accuracy: 0.9011\n",
            "Epoch 25/30\n",
            "23/23 [==============================] - ETA: 0s - loss: 0.3034 - accuracy: 0.9176\n",
            "Epoch 00025: saving model to ./checkpoints/ResNet50_model_weights.h5\n",
            "23/23 [==============================] - 72s 3s/step - loss: 0.3034 - accuracy: 0.9176\n",
            "Epoch 26/30\n",
            "23/23 [==============================] - ETA: 0s - loss: 0.2660 - accuracy: 0.9185\n",
            "Epoch 00026: saving model to ./checkpoints/ResNet50_model_weights.h5\n",
            "23/23 [==============================] - 74s 3s/step - loss: 0.2660 - accuracy: 0.9185\n",
            "Epoch 27/30\n",
            "23/23 [==============================] - ETA: 0s - loss: 0.2655 - accuracy: 0.9286\n",
            "Epoch 00027: saving model to ./checkpoints/ResNet50_model_weights.h5\n",
            "23/23 [==============================] - 71s 3s/step - loss: 0.2655 - accuracy: 0.9286\n",
            "Epoch 28/30\n",
            "23/23 [==============================] - ETA: 0s - loss: 0.2019 - accuracy: 0.9293\n",
            "Epoch 00028: saving model to ./checkpoints/ResNet50_model_weights.h5\n",
            "23/23 [==============================] - 72s 3s/step - loss: 0.2019 - accuracy: 0.9293\n",
            "Epoch 29/30\n",
            "23/23 [==============================] - ETA: 0s - loss: 0.1162 - accuracy: 0.9511\n",
            "Epoch 00029: saving model to ./checkpoints/ResNet50_model_weights.h5\n",
            "23/23 [==============================] - 72s 3s/step - loss: 0.1162 - accuracy: 0.9511\n",
            "Epoch 30/30\n",
            "23/23 [==============================] - ETA: 0s - loss: 0.0949 - accuracy: 0.9674\n",
            "Epoch 00030: saving model to ./checkpoints/ResNet50_model_weights.h5\n",
            "23/23 [==============================] - 72s 3s/step - loss: 0.0949 - accuracy: 0.9674\n"
          ],
          "name": "stdout"
        }
      ]
    },
    {
      "cell_type": "code",
      "metadata": {
        "colab": {
          "base_uri": "https://localhost:8080/"
        },
        "id": "P7rHljkGHpSA",
        "outputId": "ba596cfd-2509-403f-9131-486464ca70bd"
      },
      "source": [
        "print(history.history.keys())"
      ],
      "execution_count": null,
      "outputs": [
        {
          "output_type": "stream",
          "text": [
            "dict_keys(['loss', 'accuracy'])\n"
          ],
          "name": "stdout"
        }
      ]
    },
    {
      "cell_type": "code",
      "metadata": {
        "id": "LDbYl3A6Uvkt"
      },
      "source": [
        "import matplotlib.pyplot as plt"
      ],
      "execution_count": null,
      "outputs": []
    },
    {
      "cell_type": "code",
      "metadata": {
        "colab": {
          "base_uri": "https://localhost:8080/",
          "height": 295
        },
        "id": "3JQUIBPUWfCj",
        "outputId": "832dd167-5d48-40f2-c2e0-b1ad8d9a4a5a"
      },
      "source": [
        "plt.plot(history.history['accuracy'])\n",
        "\n",
        "# plt.plot(history.history['loss'])\n",
        "plt.title('model accuracy')\n",
        "plt.ylabel('accuracy')\n",
        "plt.xlabel('epoch')\n",
        "plt.legend(['train', 'val'], loc='upper left')\n",
        "plt.show()"
      ],
      "execution_count": null,
      "outputs": [
        {
          "output_type": "display_data",
          "data": {
            "image/png": "[encoded data removed]",
            "text/plain": [
              "<Figure size 432x288 with 1 Axes>"
            ]
          },
          "metadata": {
            "tags": [],
            "needs_background": "light"
          }
        }
      ]
    },
    {
      "cell_type": "code",
      "metadata": {
        "colab": {
          "base_uri": "https://localhost:8080/"
        },
        "id": "G8p-0i25Wg9z",
        "outputId": "2cff2373-b6d6-4f1b-bb61-de92ca8741af"
      },
      "source": [
        "history.history['accuracy'][-1]"
      ],
      "execution_count": null,
      "outputs": [
        {
          "output_type": "execute_result",
          "data": {
            "text/plain": [
              "0.967391312122345"
            ]
          },
          "metadata": {
            "tags": []
          },
          "execution_count": 26
        }
      ]
    },
    {
      "cell_type": "code",
      "metadata": {
        "colab": {
          "base_uri": "https://localhost:8080/"
        },
        "id": "iPols3sDXUY9",
        "outputId": "937ec2a7-f7ac-4d6f-e94d-6092a99e01a5"
      },
      "source": [
        "! ls {filepath}"
      ],
      "execution_count": null,
      "outputs": [
        {
          "output_type": "stream",
          "text": [
            "ls: cannot access './checkpoints/ResNet50_model_weights.h5': No such file or directory\n"
          ],
          "name": "stdout"
        }
      ]
    },
    {
      "cell_type": "code",
      "metadata": {
        "colab": {
          "base_uri": "https://localhost:8080/"
        },
        "id": "QxKtIG6EYHAg",
        "outputId": "2ae09adc-c040-4ea3-b472-a721a063b179"
      },
      "source": [
        "finetune_model.save('bimodel')"
      ],
      "execution_count": null,
      "outputs": [
        {
          "output_type": "stream",
          "text": [
            "WARNING:tensorflow:From /usr/local/lib/python3.6/dist-packages/tensorflow/python/training/tracking/tracking.py:111: Model.state_updates (from tensorflow.python.keras.engine.training) is deprecated and will be removed in a future version.\n",
            "Instructions for updating:\n",
            "This property should not be used in TensorFlow 2.0, as updates are applied automatically.\n",
            "WARNING:tensorflow:From /usr/local/lib/python3.6/dist-packages/tensorflow/python/training/tracking/tracking.py:111: Layer.updates (from tensorflow.python.keras.engine.base_layer) is deprecated and will be removed in a future version.\n",
            "Instructions for updating:\n",
            "This property should not be used in TensorFlow 2.0, as updates are applied automatically.\n",
            "INFO:tensorflow:Assets written to: bimodel/assets\n"
          ],
          "name": "stdout"
        }
      ]
    },
    {
      "cell_type": "code",
      "metadata": {
        "id": "B0URib2xYiPG"
      },
      "source": [
        "finetune_model.save('my_model.h5')"
      ],
      "execution_count": null,
      "outputs": []
    },
    {
      "cell_type": "code",
      "metadata": {
        "colab": {
          "base_uri": "https://localhost:8080/"
        },
        "id": "lcrTYiaGZZc3",
        "outputId": "2d4c0dfd-16c2-4c92-e432-c68bd10532af"
      },
      "source": [
        "from pathlib import Path\n",
        "\n",
        "f = Path('../saved_model/model.json')\n",
        "f.write_text(finetune_model.to_json())"
      ],
      "execution_count": null,
      "outputs": [
        {
          "output_type": "execute_result",
          "data": {
            "text/plain": [
              "86465"
            ]
          },
          "metadata": {
            "tags": []
          },
          "execution_count": 33
        }
      ]
    },
    {
      "cell_type": "code",
      "metadata": {
        "id": "5OgLLJ4fat4J"
      },
      "source": [
        "finetune_model.save_weights(\"../saved_model/model_weights.h5\")"
      ],
      "execution_count": null,
      "outputs": []
    },
    {
      "cell_type": "code",
      "metadata": {
        "colab": {
          "base_uri": "https://localhost:8080/"
        },
        "id": "CKggmFCfbRAO",
        "outputId": "2f42a5ef-44bd-4ba1-b5b7-05d8a48a0b02"
      },
      "source": [
        "validation_generator.classes"
      ],
      "execution_count": null,
      "outputs": [
        {
          "output_type": "execute_result",
          "data": {
            "text/plain": [
              "array([0, 0, 0, 0, 0, 0, 0, 0, 0, 0, 0, 0, 0, 0, 0, 0, 0, 0, 0, 0, 0, 0,\n",
              "       0, 0, 0, 0, 0, 0, 0, 0, 0, 0, 0, 0, 0, 0, 0, 0, 0, 0, 0, 0, 0, 0,\n",
              "       0, 1, 1, 1, 1, 1, 1, 1, 1, 1, 1, 1, 1, 1, 1, 1, 1, 1, 1, 1, 1, 1,\n",
              "       1, 1, 1, 1, 1, 1, 1, 1, 1, 1, 1, 1, 1, 1, 1, 1, 1, 1, 1, 1, 1, 1,\n",
              "       1, 1], dtype=int32)"
            ]
          },
          "metadata": {
            "tags": []
          },
          "execution_count": 35
        }
      ]
    },
    {
      "cell_type": "code",
      "metadata": {
        "id": "vL9n7PmPdDgi"
      },
      "source": [
        "predictions1 = finetune_model.predict(x=validation_generator, verbose=0)"
      ],
      "execution_count": null,
      "outputs": []
    },
    {
      "cell_type": "code",
      "metadata": {
        "colab": {
          "base_uri": "https://localhost:8080/"
        },
        "id": "yRQqg040dZvp",
        "outputId": "39521a45-bbcc-4414-903f-aa59e28b1232"
      },
      "source": [
        "validation_generator.class_indices"
      ],
      "execution_count": null,
      "outputs": [
        {
          "output_type": "execute_result",
          "data": {
            "text/plain": [
              "{'ec': 0, 'nec': 1}"
            ]
          },
          "metadata": {
            "tags": []
          },
          "execution_count": 37
        }
      ]
    },
    {
      "cell_type": "code",
      "metadata": {
        "id": "ITCKWCjxdsN8"
      },
      "source": [
        "from sklearn.metrics import confusion_matrix\n"
      ],
      "execution_count": null,
      "outputs": []
    },
    {
      "cell_type": "code",
      "metadata": {
        "id": "NUXP6DyzeTX5"
      },
      "source": [
        "cm = confusion_matrix(y_true=validation_generator.classes, y_pred=np.argmax(predictions1, axis=-1))\n"
      ],
      "execution_count": null,
      "outputs": []
    },
    {
      "cell_type": "code",
      "metadata": {
        "id": "DS3OR8jsfOx8"
      },
      "source": [
        "from sklearn.metrics import plot_confusion_matrix"
      ],
      "execution_count": null,
      "outputs": []
    },
    {
      "cell_type": "code",
      "metadata": {
        "colab": {
          "base_uri": "https://localhost:8080/",
          "height": 278
        },
        "id": "A7SO1F1Qe-fH",
        "outputId": "c39b28ee-2877-44b8-bf95-f90348a57102"
      },
      "source": [
        "import matplotlib.pyplot as plt\n",
        "plt.imshow(cm, cmap=plt.cm.Blues)\n",
        "plt.xlabel(\"Predicted labels\")\n",
        "plt.ylabel(\"True labels\")\n",
        "plt.xticks([], [])\n",
        "plt.yticks([], [])\n",
        "plt.title('Confusion matrix ')\n",
        "plt.colorbar()\n",
        "plt.show()"
      ],
      "execution_count": null,
      "outputs": [
        {
          "output_type": "display_data",
          "data": {
            "image/png": "[encoded data removed]",
            "text/plain": [
              "<Figure size 432x288 with 2 Axes>"
            ]
          },
          "metadata": {
            "tags": [],
            "needs_background": "light"
          }
        }
      ]
    },
    {
      "cell_type": "code",
      "metadata": {
        "id": "wfV8FNA0aGv-"
      },
      "source": [
        "from tensorflow import keras\n",
        "model1 = keras.models.load_model('my_model.h5')"
      ],
      "execution_count": null,
      "outputs": []
    },
    {
      "cell_type": "code",
      "metadata": {
        "id": "r5lpuFs9hsjb",
        "colab": {
          "base_uri": "https://localhost:8080/"
        },
        "outputId": "27360738-361d-4677-c550-9104d2acd62c"
      },
      "source": [
        "\n",
        "img = load_img('test/ec/000187.jpg', target_size=(300, 300))\n",
        "x = img_to_array(img)\n",
        "x = np.expand_dims(x, axis=0)\n",
        "x = preprocess_input(x)\n",
        "\n",
        "preds = model1.predict(x)\n",
        "preds\n"
      ],
      "execution_count": null,
      "outputs": [
        {
          "output_type": "execute_result",
          "data": {
            "text/plain": [
              "array([[9.999968e-01, 3.163435e-06]], dtype=float32)"
            ]
          },
          "metadata": {
            "tags": []
          },
          "execution_count": 13
        }
      ]
    },
    {
      "cell_type": "code",
      "metadata": {
        "id": "WX2kFYosbBVz"
      },
      "source": [
        "def get_prediction(image_path):\n",
        "  names = ['EC', 'NEC']\n",
        "  img = load_img(image_path, target_size=(300, 300))\n",
        "  x = img_to_array(img)\n",
        "  x = np.expand_dims(x, axis=0)\n",
        "  x = preprocess_input(x)\n",
        "  preds = model1.predict(x)\n",
        "  return names[preds.argmax()]\n"
      ],
      "execution_count": null,
      "outputs": []
    },
    {
      "cell_type": "code",
      "metadata": {
        "colab": {
          "base_uri": "https://localhost:8080/"
        },
        "id": "ftLMJzmIeUYR",
        "outputId": "69ade5bf-2b05-4d48-8654-5a5e86f68c31"
      },
      "source": [
        "base_ec = 'test/ec/'\n",
        "ecs = os.listdir(base_ec)\n",
        "err = []\n",
        "for i in ecs:\n",
        "  if get_prediction(base_ec+i) == 'NEC':\n",
        "    err.append(i)\n",
        "\n",
        "print(err)"
      ],
      "execution_count": null,
      "outputs": [
        {
          "output_type": "stream",
          "text": [
            "['000206.jpg', '000210.jpg', '000231.jpg', '000189.jpg']\n"
          ],
          "name": "stdout"
        }
      ]
    },
    {
      "cell_type": "code",
      "metadata": {
        "colab": {
          "base_uri": "https://localhost:8080/"
        },
        "id": "TdbGL-VpgRT8",
        "outputId": "1c450c33-2558-4447-b53e-6ed62d86d383"
      },
      "source": [
        "base_nec = 'test/nec/'\n",
        "necs = os.listdir(base_nec)\n",
        "err = []\n",
        "for i in necs:\n",
        "  if get_prediction(base_nec+i) == 'EC':\n",
        "    err.append(i)\n",
        "\n",
        "print(err)"
      ],
      "execution_count": null,
      "outputs": [
        {
          "output_type": "stream",
          "text": [
            "['000210.jpg', '000212.jpg', '000198.jpg', '000213.jpg', '000209.jpg', '000219.jpg', '000211.jpg']\n"
          ],
          "name": "stdout"
        }
      ]
    },
    {
      "cell_type": "code",
      "metadata": {
        "colab": {
          "base_uri": "https://localhost:8080/"
        },
        "id": "gZhvfKIzjtQQ",
        "outputId": "3cbef2f1-f8ad-4a5c-8288-2d5c42615908"
      },
      "source": [
        "model1.evaluate(validation_generator)"
      ],
      "execution_count": null,
      "outputs": [
        {
          "output_type": "stream",
          "text": [
            "12/12 [==============================] - 26s 2s/step - loss: 0.6839 - accuracy: 0.9111\n"
          ],
          "name": "stdout"
        },
        {
          "output_type": "execute_result",
          "data": {
            "text/plain": [
              "[0.683928370475769, 0.9111111164093018]"
            ]
          },
          "metadata": {
            "tags": []
          },
          "execution_count": 29
        }
      ]
    },
    {
      "cell_type": "code",
      "metadata": {
        "id": "_3HZZAA_pU6a"
      },
      "source": [
        ""
      ],
      "execution_count": null,
      "outputs": []
    }
  ]
}