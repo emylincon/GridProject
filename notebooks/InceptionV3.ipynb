{
  "nbformat": 4,
  "nbformat_minor": 0,
  "metadata": {
    "colab": {
      "name": "Grid_project3.ipynb",
      "provenance": [],
      "authorship_tag": "ABX9TyN76O7WDTuyO6JhCNB1QjNF",
      "include_colab_link": true
    },
    "kernelspec": {
      "name": "python3",
      "display_name": "Python 3"
    }
  },
  "cells": [
    {
      "cell_type": "markdown",
      "metadata": {
        "id": "view-in-github",
        "colab_type": "text"
      },
      "source": [
        "<a href=\"https://colab.research.google.com/github/emylincon/GridProject/blob/master/Grid_project3.ipynb\" target=\"_parent\"><img src=\"https://colab.research.google.com/assets/colab-badge.svg\" alt=\"Open In Colab\"/></a>"
      ]
    },
    {
      "cell_type": "code",
      "metadata": {
        "colab": {
          "base_uri": "https://localhost:8080/"
        },
        "id": "r7Pvy3zGpXmm",
        "outputId": "00cf2e0d-8087-43d4-cbc3-bdb5110da481"
      },
      "source": [
        "from google.colab import drive\n",
        "drive.mount('/content/drive')"
      ],
      "execution_count": null,
      "outputs": [
        {
          "output_type": "stream",
          "text": [
            "Mounted at /content/drive\n"
          ],
          "name": "stdout"
        }
      ]
    },
    {
      "cell_type": "code",
      "metadata": {
        "colab": {
          "base_uri": "https://localhost:8080/"
        },
        "id": "KM5u6KyNp_7B",
        "outputId": "97566179-7026-45d5-ea61-22a1cca37838"
      },
      "source": [
        "! cd \"drive/MyDrive/dataset/\"\n",
        "! ls \"drive/MyDrive/dataset/\""
      ],
      "execution_count": null,
      "outputs": [
        {
          "output_type": "stream",
          "text": [
            "bimodel  my_model.h5  test  train\n"
          ],
          "name": "stdout"
        }
      ]
    },
    {
      "cell_type": "code",
      "metadata": {
        "colab": {
          "base_uri": "https://localhost:8080/"
        },
        "id": "2R7HjQpetQt5",
        "outputId": "3ff3a4ba-8ef4-4d2f-8ff0-b1c62ca08276"
      },
      "source": [
        "! pip3 install keras==2.3.1"
      ],
      "execution_count": null,
      "outputs": [
        {
          "output_type": "stream",
          "text": [
            "Collecting keras==2.3.1\n",
            "\u001b[?25l  Downloading https://files.pythonhosted.org/packages/ad/fd/6bfe87920d7f4fd475acd28500a42482b6b84479832bdc0fe9e589a60ceb/Keras-2.3.1-py2.py3-none-any.whl (377kB)\n",
            "\r\u001b[K     |▉                               | 10kB 15.7MB/s eta 0:00:01\r\u001b[K     |█▊                              | 20kB 10.5MB/s eta 0:00:01\r\u001b[K     |██▋                             | 30kB 6.0MB/s eta 0:00:01\r\u001b[K     |███▌                            | 40kB 5.7MB/s eta 0:00:01\r\u001b[K     |████▍                           | 51kB 4.4MB/s eta 0:00:01\r\u001b[K     |█████▏                          | 61kB 4.7MB/s eta 0:00:01\r\u001b[K     |██████                          | 71kB 5.1MB/s eta 0:00:01\r\u001b[K     |███████                         | 81kB 5.3MB/s eta 0:00:01\r\u001b[K     |███████▉                        | 92kB 5.2MB/s eta 0:00:01\r\u001b[K     |████████▊                       | 102kB 5.2MB/s eta 0:00:01\r\u001b[K     |█████████▌                      | 112kB 5.2MB/s eta 0:00:01\r\u001b[K     |██████████▍                     | 122kB 5.2MB/s eta 0:00:01\r\u001b[K     |███████████▎                    | 133kB 5.2MB/s eta 0:00:01\r\u001b[K     |████████████▏                   | 143kB 5.2MB/s eta 0:00:01\r\u001b[K     |█████████████                   | 153kB 5.2MB/s eta 0:00:01\r\u001b[K     |█████████████▉                  | 163kB 5.2MB/s eta 0:00:01\r\u001b[K     |██████████████▊                 | 174kB 5.2MB/s eta 0:00:01\r\u001b[K     |███████████████▋                | 184kB 5.2MB/s eta 0:00:01\r\u001b[K     |████████████████▌               | 194kB 5.2MB/s eta 0:00:01\r\u001b[K     |█████████████████▍              | 204kB 5.2MB/s eta 0:00:01\r\u001b[K     |██████████████████▏             | 215kB 5.2MB/s eta 0:00:01\r\u001b[K     |███████████████████             | 225kB 5.2MB/s eta 0:00:01\r\u001b[K     |████████████████████            | 235kB 5.2MB/s eta 0:00:01\r\u001b[K     |████████████████████▉           | 245kB 5.2MB/s eta 0:00:01\r\u001b[K     |█████████████████████▊          | 256kB 5.2MB/s eta 0:00:01\r\u001b[K     |██████████████████████▌         | 266kB 5.2MB/s eta 0:00:01\r\u001b[K     |███████████████████████▍        | 276kB 5.2MB/s eta 0:00:01\r\u001b[K     |████████████████████████▎       | 286kB 5.2MB/s eta 0:00:01\r\u001b[K     |█████████████████████████▏      | 296kB 5.2MB/s eta 0:00:01\r\u001b[K     |██████████████████████████      | 307kB 5.2MB/s eta 0:00:01\r\u001b[K     |██████████████████████████▉     | 317kB 5.2MB/s eta 0:00:01\r\u001b[K     |███████████████████████████▊    | 327kB 5.2MB/s eta 0:00:01\r\u001b[K     |████████████████████████████▋   | 337kB 5.2MB/s eta 0:00:01\r\u001b[K     |█████████████████████████████▌  | 348kB 5.2MB/s eta 0:00:01\r\u001b[K     |██████████████████████████████▍ | 358kB 5.2MB/s eta 0:00:01\r\u001b[K     |███████████████████████████████▏| 368kB 5.2MB/s eta 0:00:01\r\u001b[K     |████████████████████████████████| 378kB 5.2MB/s \n",
            "\u001b[?25hRequirement already satisfied: numpy>=1.9.1 in /usr/local/lib/python3.6/dist-packages (from keras==2.3.1) (1.18.5)\n",
            "Collecting keras-applications>=1.0.6\n",
            "\u001b[?25l  Downloading https://files.pythonhosted.org/packages/71/e3/19762fdfc62877ae9102edf6342d71b28fbfd9dea3d2f96a882ce099b03f/Keras_Applications-1.0.8-py3-none-any.whl (50kB)\n",
            "\u001b[K     |████████████████████████████████| 51kB 4.6MB/s \n",
            "\u001b[?25hRequirement already satisfied: pyyaml in /usr/local/lib/python3.6/dist-packages (from keras==2.3.1) (3.13)\n",
            "Requirement already satisfied: scipy>=0.14 in /usr/local/lib/python3.6/dist-packages (from keras==2.3.1) (1.4.1)\n",
            "Requirement already satisfied: six>=1.9.0 in /usr/local/lib/python3.6/dist-packages (from keras==2.3.1) (1.15.0)\n",
            "Requirement already satisfied: keras-preprocessing>=1.0.5 in /usr/local/lib/python3.6/dist-packages (from keras==2.3.1) (1.1.2)\n",
            "Requirement already satisfied: h5py in /usr/local/lib/python3.6/dist-packages (from keras==2.3.1) (2.10.0)\n",
            "Installing collected packages: keras-applications, keras\n",
            "  Found existing installation: Keras 2.4.3\n",
            "    Uninstalling Keras-2.4.3:\n",
            "      Successfully uninstalled Keras-2.4.3\n",
            "Successfully installed keras-2.3.1 keras-applications-1.0.8\n"
          ],
          "name": "stdout"
        }
      ]
    },
    {
      "cell_type": "markdown",
      "metadata": {
        "id": "tKLQSxFCt4YI"
      },
      "source": [
        "# USING InceptionV3"
      ]
    },
    {
      "cell_type": "code",
      "metadata": {
        "colab": {
          "base_uri": "https://localhost:8080/"
        },
        "id": "beQr1oltt0Wv",
        "outputId": "3d846862-6198-435b-fc67-a26964d392aa"
      },
      "source": [
        "import numpy as np\n",
        "import pandas as pd\n",
        "from tensorflow.keras.applications.inception_v3 import InceptionV3, preprocess_input\n",
        "from tensorflow.keras import Sequential\n",
        "from tensorflow.keras.layers import Conv2D, Flatten, Dense\n",
        "\n",
        "HEIGHT = 224\n",
        "WIDTH = 224\n",
        "\n",
        "base_model = InceptionV3(weights='imagenet', \n",
        "                      include_top=False, \n",
        "                      input_shape=(HEIGHT, WIDTH, 3))"
      ],
      "execution_count": null,
      "outputs": [
        {
          "output_type": "stream",
          "text": [
            "Downloading data from https://storage.googleapis.com/tensorflow/keras-applications/inception_v3/inception_v3_weights_tf_dim_ordering_tf_kernels_notop.h5\n",
            "87916544/87910968 [==============================] - 1s 0us/step\n"
          ],
          "name": "stdout"
        }
      ]
    },
    {
      "cell_type": "code",
      "metadata": {
        "colab": {
          "base_uri": "https://localhost:8080/"
        },
        "id": "lYZldrofujED",
        "outputId": "8864d40c-1c53-4e21-a6de-509a31600e6e"
      },
      "source": [
        "import os\n",
        "os.chdir('drive/MyDrive/dataset/')\n",
        "print(os.getcwd())"
      ],
      "execution_count": null,
      "outputs": [
        {
          "output_type": "stream",
          "text": [
            "/content/drive/MyDrive/dataset\n"
          ],
          "name": "stdout"
        }
      ]
    },
    {
      "cell_type": "markdown",
      "metadata": {
        "id": "Vt2rNydwus-S"
      },
      "source": [
        "# DATA PREPROCESSING AND AUGMENTATION"
      ]
    },
    {
      "cell_type": "code",
      "metadata": {
        "colab": {
          "base_uri": "https://localhost:8080/"
        },
        "id": "U7c_7uTcurJN",
        "outputId": "5ce8f04b-c75b-4d96-be0e-ccc729b5191a"
      },
      "source": [
        "from tensorflow.keras.preprocessing.image import ImageDataGenerator\n",
        "\n",
        "TRAIN_DIR = \"train/\"\n",
        "BATCH_SIZE = 8\n",
        "\n",
        "train_datagen =  ImageDataGenerator(\n",
        "      preprocessing_function=preprocess_input,\n",
        "      rotation_range=90,\n",
        "      width_shift_range=0.2,\n",
        "      height_shift_range=0.2,\n",
        "      shear_range=0.2,\n",
        "      zoom_range=0.2,\n",
        "      horizontal_flip=True,\n",
        "      vertical_flip=True\n",
        "    )\n",
        "\n",
        "train_generator = train_datagen.flow_from_directory(TRAIN_DIR, \n",
        "                                                    target_size=(HEIGHT, WIDTH), \n",
        "                                                    batch_size=BATCH_SIZE)\n",
        "\n",
        "\n",
        "test_datagen =  ImageDataGenerator(\n",
        "      preprocessing_function=preprocess_input,\n",
        "      rotation_range=90,\n",
        "      width_shift_range=0.2,\n",
        "      height_shift_range=0.2,\n",
        "      shear_range=0.2,\n",
        "      zoom_range=0.2,\n",
        "      horizontal_flip=True,\n",
        "      vertical_flip=True\n",
        "    )\n",
        "validation_generator = test_datagen.flow_from_directory(\n",
        "        'test/',\n",
        "        target_size=(HEIGHT, WIDTH),\n",
        "        batch_size=BATCH_SIZE)"
      ],
      "execution_count": null,
      "outputs": [
        {
          "output_type": "stream",
          "text": [
            "Found 374 images belonging to 2 classes.\n",
            "Found 90 images belonging to 2 classes.\n"
          ],
          "name": "stdout"
        }
      ]
    },
    {
      "cell_type": "markdown",
      "metadata": {
        "id": "ACTokBfpvDT7"
      },
      "source": [
        "# BUILDING MODEL"
      ]
    },
    {
      "cell_type": "code",
      "metadata": {
        "id": "eAs-hojOu_xQ"
      },
      "source": [
        "from tensorflow.keras.layers import Dense, Activation, Flatten, Dropout\n",
        "from tensorflow.keras.models import Sequential, Model\n",
        "\n",
        "def build_finetune_model(base_model, dropout, fc_layers, num_classes):\n",
        "    for layer in base_model.layers:\n",
        "        layer.trainable = False\n",
        "\n",
        "    x = base_model.output\n",
        "    x = Flatten()(x)\n",
        "    for fc in fc_layers:\n",
        "        # New FC layer, random init\n",
        "        x = Dense(fc, activation='relu')(x) \n",
        "        x = Dropout(dropout)(x)\n",
        "\n",
        "    # New softmax layer\n",
        "    predictions = Dense(num_classes, activation='softmax')(x) \n",
        "    \n",
        "    finetune_model = Model(inputs=base_model.input, outputs=predictions)\n",
        "\n",
        "    return finetune_model\n",
        "\n",
        "class_list = os.listdir(\"train/\")\n",
        "FC_LAYERS = [1024, 1024]\n",
        "dropout = 0.5\n",
        "\n",
        "finetune_model = build_finetune_model(base_model, \n",
        "                                      dropout=dropout, \n",
        "                                      fc_layers=FC_LAYERS, \n",
        "                                      num_classes=len(class_list))"
      ],
      "execution_count": null,
      "outputs": []
    },
    {
      "cell_type": "markdown",
      "metadata": {
        "id": "1mTiDA3xvR7R"
      },
      "source": [
        "# COMPLILE AND TRAIN MODEL"
      ]
    },
    {
      "cell_type": "code",
      "metadata": {
        "colab": {
          "base_uri": "https://localhost:8080/"
        },
        "id": "MPdkjztxvOuD",
        "outputId": "83d1e2b1-4065-4567-c2f3-aab903eedfa2"
      },
      "source": [
        "from tensorflow.keras.optimizers import Adam\n",
        "from tensorflow.keras.callbacks import ModelCheckpoint\n",
        "import matplotlib.pyplot as plt\n",
        "\n",
        "NUM_EPOCHS = 20\n",
        "BATCH_SIZE = 16\n",
        "num_train_images = 370\n",
        "\n",
        "adam = Adam(lr=0.00001)\n",
        "finetune_model.compile(adam, loss='categorical_crossentropy', metrics=['accuracy'])\n",
        "\n",
        "filepath=\"../eff_checkpoint/\" + \"EFF\" + \"_inception_weights.h5\"\n",
        "checkpoint = ModelCheckpoint(filepath, monitor=[\"acc\"], verbose=1, mode='max')\n",
        "callbacks_list = [checkpoint]\n",
        "\n",
        "history = finetune_model.fit(train_generator, epochs=NUM_EPOCHS, workers=16, \n",
        "                                       steps_per_epoch=num_train_images // BATCH_SIZE, \n",
        "                                       shuffle=True, callbacks=callbacks_list, validation_data=validation_generator)"
      ],
      "execution_count": null,
      "outputs": [
        {
          "output_type": "stream",
          "text": [
            "Epoch 1/20\n",
            " 2/23 [=>............................] - ETA: 12s - loss: 1.8286 - accuracy: 0.3750"
          ],
          "name": "stdout"
        },
        {
          "output_type": "stream",
          "text": [
            "/usr/local/lib/python3.6/dist-packages/PIL/Image.py:932: UserWarning: Palette images with Transparency expressed in bytes should be converted to RGBA images\n",
            "  \"Palette images with Transparency expressed in bytes should be \"\n"
          ],
          "name": "stderr"
        },
        {
          "output_type": "stream",
          "text": [
            "23/23 [==============================] - ETA: 0s - loss: 1.2431 - accuracy: 0.5220\n",
            "Epoch 00001: saving model to ../eff_checkpoint/EFF_inception_weights.h5\n",
            "23/23 [==============================] - 54s 2s/step - loss: 1.2431 - accuracy: 0.5220 - val_loss: 0.6196 - val_accuracy: 0.6222\n",
            "Epoch 2/20\n",
            "23/23 [==============================] - ETA: 0s - loss: 1.0063 - accuracy: 0.5870\n",
            "Epoch 00002: saving model to ../eff_checkpoint/EFF_inception_weights.h5\n",
            "23/23 [==============================] - 50s 2s/step - loss: 1.0063 - accuracy: 0.5870 - val_loss: 0.4912 - val_accuracy: 0.7333\n",
            "Epoch 3/20\n",
            "23/23 [==============================] - ETA: 0s - loss: 0.8144 - accuracy: 0.7198\n",
            "Epoch 00003: saving model to ../eff_checkpoint/EFF_inception_weights.h5\n",
            "23/23 [==============================] - 48s 2s/step - loss: 0.8144 - accuracy: 0.7198 - val_loss: 0.4161 - val_accuracy: 0.8222\n",
            "Epoch 4/20\n",
            "23/23 [==============================] - ETA: 0s - loss: 0.5790 - accuracy: 0.7857\n",
            "Epoch 00004: saving model to ../eff_checkpoint/EFF_inception_weights.h5\n",
            "23/23 [==============================] - 49s 2s/step - loss: 0.5790 - accuracy: 0.7857 - val_loss: 0.3188 - val_accuracy: 0.8778\n",
            "Epoch 5/20\n",
            "23/23 [==============================] - ETA: 0s - loss: 0.5687 - accuracy: 0.7857\n",
            "Epoch 00005: saving model to ../eff_checkpoint/EFF_inception_weights.h5\n",
            "23/23 [==============================] - 49s 2s/step - loss: 0.5687 - accuracy: 0.7857 - val_loss: 0.3712 - val_accuracy: 0.8333\n",
            "Epoch 6/20\n",
            "23/23 [==============================] - ETA: 0s - loss: 0.5877 - accuracy: 0.7967\n",
            "Epoch 00006: saving model to ../eff_checkpoint/EFF_inception_weights.h5\n",
            "23/23 [==============================] - 49s 2s/step - loss: 0.5877 - accuracy: 0.7967 - val_loss: 0.3696 - val_accuracy: 0.8556\n",
            "Epoch 7/20\n",
            "23/23 [==============================] - ETA: 0s - loss: 0.5787 - accuracy: 0.7912\n",
            "Epoch 00007: saving model to ../eff_checkpoint/EFF_inception_weights.h5\n",
            "23/23 [==============================] - 48s 2s/step - loss: 0.5787 - accuracy: 0.7912 - val_loss: 0.6213 - val_accuracy: 0.7778\n",
            "Epoch 8/20\n",
            "23/23 [==============================] - ETA: 0s - loss: 0.4157 - accuracy: 0.8261\n",
            "Epoch 00008: saving model to ../eff_checkpoint/EFF_inception_weights.h5\n",
            "23/23 [==============================] - 49s 2s/step - loss: 0.4157 - accuracy: 0.8261 - val_loss: 0.3751 - val_accuracy: 0.8333\n",
            "Epoch 9/20\n",
            "23/23 [==============================] - ETA: 0s - loss: 0.4203 - accuracy: 0.8077\n",
            "Epoch 00009: saving model to ../eff_checkpoint/EFF_inception_weights.h5\n",
            "23/23 [==============================] - 47s 2s/step - loss: 0.4203 - accuracy: 0.8077 - val_loss: 0.4539 - val_accuracy: 0.8444\n",
            "Epoch 10/20\n",
            "23/23 [==============================] - ETA: 0s - loss: 0.3640 - accuracy: 0.8641\n",
            "Epoch 00010: saving model to ../eff_checkpoint/EFF_inception_weights.h5\n",
            "23/23 [==============================] - 48s 2s/step - loss: 0.3640 - accuracy: 0.8641 - val_loss: 0.5251 - val_accuracy: 0.8556\n",
            "Epoch 11/20\n",
            "23/23 [==============================] - ETA: 0s - loss: 0.3964 - accuracy: 0.8462\n",
            "Epoch 00011: saving model to ../eff_checkpoint/EFF_inception_weights.h5\n",
            "23/23 [==============================] - 48s 2s/step - loss: 0.3964 - accuracy: 0.8462 - val_loss: 0.3116 - val_accuracy: 0.8667\n",
            "Epoch 12/20\n",
            "23/23 [==============================] - ETA: 0s - loss: 0.5107 - accuracy: 0.8207\n",
            "Epoch 00012: saving model to ../eff_checkpoint/EFF_inception_weights.h5\n",
            "23/23 [==============================] - 49s 2s/step - loss: 0.5107 - accuracy: 0.8207 - val_loss: 0.3476 - val_accuracy: 0.8222\n",
            "Epoch 13/20\n",
            "23/23 [==============================] - ETA: 0s - loss: 0.4318 - accuracy: 0.8242\n",
            "Epoch 00013: saving model to ../eff_checkpoint/EFF_inception_weights.h5\n",
            "23/23 [==============================] - 48s 2s/step - loss: 0.4318 - accuracy: 0.8242 - val_loss: 0.3810 - val_accuracy: 0.8444\n",
            "Epoch 14/20\n",
            "23/23 [==============================] - ETA: 0s - loss: 0.5157 - accuracy: 0.8132\n",
            "Epoch 00014: saving model to ../eff_checkpoint/EFF_inception_weights.h5\n",
            "23/23 [==============================] - 49s 2s/step - loss: 0.5157 - accuracy: 0.8132 - val_loss: 0.4671 - val_accuracy: 0.8000\n",
            "Epoch 15/20\n",
            "23/23 [==============================] - ETA: 0s - loss: 0.4686 - accuracy: 0.8462\n",
            "Epoch 00015: saving model to ../eff_checkpoint/EFF_inception_weights.h5\n",
            "23/23 [==============================] - 49s 2s/step - loss: 0.4686 - accuracy: 0.8462 - val_loss: 0.4312 - val_accuracy: 0.8222\n",
            "Epoch 16/20\n",
            "23/23 [==============================] - ETA: 0s - loss: 0.3372 - accuracy: 0.8571\n",
            "Epoch 00016: saving model to ../eff_checkpoint/EFF_inception_weights.h5\n",
            "23/23 [==============================] - 48s 2s/step - loss: 0.3372 - accuracy: 0.8571 - val_loss: 0.4104 - val_accuracy: 0.8111\n",
            "Epoch 17/20\n",
            "23/23 [==============================] - ETA: 0s - loss: 0.4392 - accuracy: 0.8901\n",
            "Epoch 00017: saving model to ../eff_checkpoint/EFF_inception_weights.h5\n",
            "23/23 [==============================] - 48s 2s/step - loss: 0.4392 - accuracy: 0.8901 - val_loss: 0.3290 - val_accuracy: 0.8778\n",
            "Epoch 18/20\n",
            "23/23 [==============================] - ETA: 0s - loss: 0.3261 - accuracy: 0.8901\n",
            "Epoch 00018: saving model to ../eff_checkpoint/EFF_inception_weights.h5\n",
            "23/23 [==============================] - 48s 2s/step - loss: 0.3261 - accuracy: 0.8901 - val_loss: 0.4646 - val_accuracy: 0.8333\n",
            "Epoch 19/20\n",
            "23/23 [==============================] - ETA: 0s - loss: 0.2463 - accuracy: 0.9011\n",
            "Epoch 00019: saving model to ../eff_checkpoint/EFF_inception_weights.h5\n",
            "23/23 [==============================] - 48s 2s/step - loss: 0.2463 - accuracy: 0.9011 - val_loss: 0.3684 - val_accuracy: 0.8444\n",
            "Epoch 20/20\n",
            "23/23 [==============================] - ETA: 0s - loss: 0.3392 - accuracy: 0.8516\n",
            "Epoch 00020: saving model to ../eff_checkpoint/EFF_inception_weights.h5\n",
            "23/23 [==============================] - 47s 2s/step - loss: 0.3392 - accuracy: 0.8516 - val_loss: 0.3953 - val_accuracy: 0.9111\n"
          ],
          "name": "stdout"
        }
      ]
    },
    {
      "cell_type": "code",
      "metadata": {
        "colab": {
          "base_uri": "https://localhost:8080/"
        },
        "id": "ZSgx5x0dv7ni",
        "outputId": "d90c740e-7126-4e18-91db-89dce9b5074e"
      },
      "source": [
        "print(history.history.keys())"
      ],
      "execution_count": null,
      "outputs": [
        {
          "output_type": "stream",
          "text": [
            "dict_keys(['loss', 'accuracy', 'val_loss', 'val_accuracy'])\n"
          ],
          "name": "stdout"
        }
      ]
    },
    {
      "cell_type": "code",
      "metadata": {
        "id": "ovUt269B00zD"
      },
      "source": [
        "import matplotlib.pyplot as plt"
      ],
      "execution_count": null,
      "outputs": []
    },
    {
      "cell_type": "code",
      "metadata": {
        "colab": {
          "base_uri": "https://localhost:8080/",
          "height": 295
        },
        "id": "M67t8_OJ0924",
        "outputId": "c92c4e06-53b6-4b39-bfdb-bcc805bac21a"
      },
      "source": [
        "plt.plot(history.history['accuracy'])\n",
        "plt.plot(history.history['val_accuracy'])\n",
        "plt.title('model accuracy')\n",
        "plt.ylabel('accuracy')\n",
        "plt.xlabel('epoch')\n",
        "plt.legend(['train', 'val'], loc='upper left')\n",
        "plt.show()"
      ],
      "execution_count": null,
      "outputs": [
        {
          "output_type": "display_data",
          "data": {
            "image/png": "[encoded data removed]",
            "text/plain": [
              "<Figure size 432x288 with 1 Axes>"
            ]
          },
          "metadata": {
            "tags": [],
            "needs_background": "light"
          }
        }
      ]
    },
    {
      "cell_type": "code",
      "metadata": {
        "colab": {
          "base_uri": "https://localhost:8080/",
          "height": 295
        },
        "id": "bje6lNFI1GsX",
        "outputId": "09060130-769a-4a8b-b20f-871d5a405f27"
      },
      "source": [
        "plt.plot(history.history['loss'])\n",
        "plt.plot(history.history['val_loss'])\n",
        "plt.title('model accuracy')\n",
        "plt.ylabel('loss')\n",
        "plt.xlabel('epoch')\n",
        "plt.legend(['train', 'val'], loc='upper left')\n",
        "plt.show()"
      ],
      "execution_count": null,
      "outputs": [
        {
          "output_type": "display_data",
          "data": {
            "image/png": "[encoded data removed]",
            "text/plain": [
              "<Figure size 432x288 with 1 Axes>"
            ]
          },
          "metadata": {
            "tags": [],
            "needs_background": "light"
          }
        }
      ]
    },
    {
      "cell_type": "code",
      "metadata": {
        "colab": {
          "base_uri": "https://localhost:8080/"
        },
        "id": "Kqz-TXQx1Rqn",
        "outputId": "7370d75f-359b-4b03-9695-d641dad91761"
      },
      "source": [
        "finetune_model.evaluate(validation_generator)"
      ],
      "execution_count": null,
      "outputs": [
        {
          "output_type": "stream",
          "text": [
            "12/12 [==============================] - 11s 947ms/step - loss: 0.4166 - accuracy: 0.8444\n"
          ],
          "name": "stdout"
        },
        {
          "output_type": "execute_result",
          "data": {
            "text/plain": [
              "[0.41664013266563416, 0.8444444537162781]"
            ]
          },
          "metadata": {
            "tags": []
          },
          "execution_count": 14
        }
      ]
    },
    {
      "cell_type": "code",
      "metadata": {
        "id": "lLI-CKbp1mTc"
      },
      "source": [
        "predictions1 = finetune_model.predict(x=validation_generator, verbose=0)"
      ],
      "execution_count": null,
      "outputs": []
    },
    {
      "cell_type": "code",
      "metadata": {
        "id": "xZGFmDrX126m"
      },
      "source": [
        "from sklearn.metrics import confusion_matrix\n",
        "from sklearn.metrics import plot_confusion_matrix"
      ],
      "execution_count": null,
      "outputs": []
    },
    {
      "cell_type": "code",
      "metadata": {
        "id": "6KfP428Q1_0p"
      },
      "source": [
        "cm = confusion_matrix(y_true=validation_generator.classes, y_pred=np.argmax(predictions1, axis=-1))"
      ],
      "execution_count": null,
      "outputs": []
    },
    {
      "cell_type": "code",
      "metadata": {
        "colab": {
          "base_uri": "https://localhost:8080/"
        },
        "id": "Hg_CBKFT2Cy2",
        "outputId": "cfb141e6-1665-4eee-91e9-aa6ed153888e"
      },
      "source": [
        "cm"
      ],
      "execution_count": null,
      "outputs": [
        {
          "output_type": "execute_result",
          "data": {
            "text/plain": [
              "array([[27, 18],\n",
              "       [26, 19]])"
            ]
          },
          "metadata": {
            "tags": []
          },
          "execution_count": 18
        }
      ]
    },
    {
      "cell_type": "code",
      "metadata": {
        "colab": {
          "base_uri": "https://localhost:8080/",
          "height": 278
        },
        "id": "97GwPZgl2IpZ",
        "outputId": "efdbf637-873a-42c2-bbef-9f9ce98ba961"
      },
      "source": [
        "import matplotlib.pyplot as plt\n",
        "plt.imshow(cm, cmap=plt.cm.Blues)\n",
        "plt.xlabel(\"Predicted labels\")\n",
        "plt.ylabel(\"True labels\")\n",
        "plt.xticks([], [])\n",
        "plt.yticks([], [])\n",
        "plt.title('Confusion matrix ')\n",
        "plt.colorbar()\n",
        "plt.show()"
      ],
      "execution_count": null,
      "outputs": [
        {
          "output_type": "display_data",
          "data": {
            "image/png": "[encoded data removed]",
            "text/plain": [
              "<Figure size 432x288 with 2 Axes>"
            ]
          },
          "metadata": {
            "tags": [],
            "needs_background": "light"
          }
        }
      ]
    },
    {
      "cell_type": "code",
      "metadata": {
        "id": "ojN6ACQS2QfM"
      },
      "source": [
        "from tensorflow.keras.preprocessing.image import load_img, img_to_array"
      ],
      "execution_count": null,
      "outputs": []
    },
    {
      "cell_type": "code",
      "metadata": {
        "id": "M5l4P7Qn2a4a"
      },
      "source": [
        "def get_prediction(image_path):\n",
        "  names = ['EC', 'NEC']\n",
        "  img = load_img(image_path, target_size=(HEIGHT, WIDTH))\n",
        "  x = img_to_array(img)\n",
        "  x = np.expand_dims(x, axis=0)\n",
        "  x = preprocess_input(x)\n",
        "  preds = finetune_model.predict(x)\n",
        "  return names[preds.argmax()]"
      ],
      "execution_count": null,
      "outputs": []
    },
    {
      "cell_type": "code",
      "metadata": {
        "colab": {
          "base_uri": "https://localhost:8080/"
        },
        "id": "mxlWXW7O2mEk",
        "outputId": "9f372d0a-9011-4a73-dde7-6c97105bdddd"
      },
      "source": [
        "base_ec = 'test/ec/'\n",
        "ecs = os.listdir(base_ec)\n",
        "err = []\n",
        "for i in ecs:\n",
        "  if get_prediction(base_ec+i) == 'NEC':\n",
        "    err.append(i)\n",
        "\n",
        "print(err)"
      ],
      "execution_count": null,
      "outputs": [
        {
          "output_type": "stream",
          "text": [
            "['000231.jpg']\n"
          ],
          "name": "stdout"
        }
      ]
    },
    {
      "cell_type": "code",
      "metadata": {
        "colab": {
          "base_uri": "https://localhost:8080/"
        },
        "id": "7Q-pmnuA2oNb",
        "outputId": "074ae0cb-396d-407f-e282-2087166bee8a"
      },
      "source": [
        "base_nec = 'test/nec/'\n",
        "necs = os.listdir(base_nec)\n",
        "err = []\n",
        "for i in necs:\n",
        "  if get_prediction(base_nec+i) == 'EC':\n",
        "    err.append(i)\n",
        "\n",
        "print(err)"
      ],
      "execution_count": null,
      "outputs": [
        {
          "output_type": "stream",
          "text": [
            "['000228.jpg', '000210.jpg', '000204.jpg', '000205.jpg', '000216.jpg', '000198.jpg', '000197.jpg', '000213.jpg', '000209.jpg', '000219.jpg', '000211.jpg']\n"
          ],
          "name": "stdout"
        }
      ]
    },
    {
      "cell_type": "code",
      "metadata": {
        "id": "LILRDzBh2xtu"
      },
      "source": [
        "finetune_model.save('inception_model.h5')"
      ],
      "execution_count": null,
      "outputs": []
    },
    {
      "cell_type": "code",
      "metadata": {
        "colab": {
          "base_uri": "https://localhost:8080/",
          "height": 295
        },
        "id": "wn7R_dVv3ARe",
        "outputId": "d66d500d-c766-43f2-ac78-f3c6e5e4a3e2"
      },
      "source": [
        "import seaborn as sns\n",
        "import matplotlib.pyplot as plt     \n",
        "\n",
        "ax= plt.subplot()\n",
        "sns.heatmap(cm, annot=True, ax = ax); #annot=True to annotate cells\n",
        "\n",
        "# labels, title and ticks\n",
        "ax.set_xlabel('Predicted labels');ax.set_ylabel('True labels'); \n",
        "ax.set_title('Confusion Matrix'); \n",
        "ax.xaxis.set_ticklabels(['EC', 'NEC']); ax.yaxis.set_ticklabels(['NEC', 'EC']);"
      ],
      "execution_count": null,
      "outputs": [
        {
          "output_type": "display_data",
          "data": {
            "image/png": "[encoded data removed]",
            "text/plain": [
              "<Figure size 432x288 with 2 Axes>"
            ]
          },
          "metadata": {
            "tags": [],
            "needs_background": "light"
          }
        }
      ]
    },
    {
      "cell_type": "code",
      "metadata": {
        "colab": {
          "base_uri": "https://localhost:8080/",
          "height": 395
        },
        "id": "Ij-BVxeaVUen",
        "outputId": "2efaeaca-3aa5-40ad-e738-35c7d67dd1c1"
      },
      "source": [
        "  \n",
        "cm_df = pd.DataFrame(cm,labels,labels)                       \n",
        "plt.figure(figsize=(10,6))  \n",
        "sns.heatmap(cm_df, annot=True)"
      ],
      "execution_count": null,
      "outputs": [
        {
          "output_type": "execute_result",
          "data": {
            "text/plain": [
              "<matplotlib.axes._subplots.AxesSubplot at 0x7ff31b5e0b70>"
            ]
          },
          "metadata": {
            "tags": []
          },
          "execution_count": 36
        },
        {
          "output_type": "display_data",
          "data": {
            "image/png": "[encoded data removed]",
            "text/plain": [
              "<Figure size 720x432 with 2 Axes>"
            ]
          },
          "metadata": {
            "tags": [],
            "needs_background": "light"
          }
        }
      ]
    },
    {
      "cell_type": "code",
      "metadata": {
        "id": "n0ETdpUFVw-j"
      },
      "source": [
        ""
      ],
      "execution_count": null,
      "outputs": []
    }
  ]
}