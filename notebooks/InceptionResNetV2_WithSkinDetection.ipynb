{
  "nbformat": 4,
  "nbformat_minor": 0,
  "metadata": {
    "colab": {
      "name": "WithSkinDetection.ipynb",
      "provenance": [],
      "authorship_tag": "ABX9TyPJgPw1u+0aHbqPZP++fkpF",
      "include_colab_link": true
    },
    "kernelspec": {
      "name": "python3",
      "display_name": "Python 3"
    }
  },
  "cells": [
    {
      "cell_type": "markdown",
      "metadata": {
        "id": "view-in-github",
        "colab_type": "text"
      },
      "source": [
        "<a href=\"https://colab.research.google.com/github/emylincon/GridProject/blob/master/InceptionResNetV2_WithSkinDetection.ipynb\" target=\"_parent\"><img src=\"https://colab.research.google.com/assets/colab-badge.svg\" alt=\"Open In Colab\"/></a>"
      ]
    },
    {
      "cell_type": "code",
      "metadata": {
        "colab": {
          "base_uri": "https://localhost:8080/"
        },
        "id": "N1Svwr4qwb_7",
        "outputId": "b6c06bac-a4dc-45a2-c52d-2f27af7fde2b"
      },
      "source": [
        "from google.colab import drive\r\n",
        "drive.mount('/content/drive')"
      ],
      "execution_count": 1,
      "outputs": [
        {
          "output_type": "stream",
          "text": [
            "Mounted at /content/drive\n"
          ],
          "name": "stdout"
        }
      ]
    },
    {
      "cell_type": "code",
      "metadata": {
        "colab": {
          "base_uri": "https://localhost:8080/"
        },
        "id": "vHD9NAfCxbMM",
        "outputId": "f1097092-ea8f-4f6a-9ec7-2f27a5d369e9"
      },
      "source": [
        "! pip3 install keras==2.3.1"
      ],
      "execution_count": 2,
      "outputs": [
        {
          "output_type": "stream",
          "text": [
            "Collecting keras==2.3.1\n",
            "\u001b[?25l  Downloading https://files.pythonhosted.org/packages/ad/fd/6bfe87920d7f4fd475acd28500a42482b6b84479832bdc0fe9e589a60ceb/Keras-2.3.1-py2.py3-none-any.whl (377kB)\n",
            "\r\u001b[K     |▉                               | 10kB 16.2MB/s eta 0:00:01\r\u001b[K     |█▊                              | 20kB 10.2MB/s eta 0:00:01\r\u001b[K     |██▋                             | 30kB 7.0MB/s eta 0:00:01\r\u001b[K     |███▌                            | 40kB 7.0MB/s eta 0:00:01\r\u001b[K     |████▍                           | 51kB 3.9MB/s eta 0:00:01\r\u001b[K     |█████▏                          | 61kB 4.4MB/s eta 0:00:01\r\u001b[K     |██████                          | 71kB 4.6MB/s eta 0:00:01\r\u001b[K     |███████                         | 81kB 5.0MB/s eta 0:00:01\r\u001b[K     |███████▉                        | 92kB 5.3MB/s eta 0:00:01\r\u001b[K     |████████▊                       | 102kB 5.3MB/s eta 0:00:01\r\u001b[K     |█████████▌                      | 112kB 5.3MB/s eta 0:00:01\r\u001b[K     |██████████▍                     | 122kB 5.3MB/s eta 0:00:01\r\u001b[K     |███████████▎                    | 133kB 5.3MB/s eta 0:00:01\r\u001b[K     |████████████▏                   | 143kB 5.3MB/s eta 0:00:01\r\u001b[K     |█████████████                   | 153kB 5.3MB/s eta 0:00:01\r\u001b[K     |█████████████▉                  | 163kB 5.3MB/s eta 0:00:01\r\u001b[K     |██████████████▊                 | 174kB 5.3MB/s eta 0:00:01\r\u001b[K     |███████████████▋                | 184kB 5.3MB/s eta 0:00:01\r\u001b[K     |████████████████▌               | 194kB 5.3MB/s eta 0:00:01\r\u001b[K     |█████████████████▍              | 204kB 5.3MB/s eta 0:00:01\r\u001b[K     |██████████████████▏             | 215kB 5.3MB/s eta 0:00:01\r\u001b[K     |███████████████████             | 225kB 5.3MB/s eta 0:00:01\r\u001b[K     |████████████████████            | 235kB 5.3MB/s eta 0:00:01\r\u001b[K     |████████████████████▉           | 245kB 5.3MB/s eta 0:00:01\r\u001b[K     |█████████████████████▊          | 256kB 5.3MB/s eta 0:00:01\r\u001b[K     |██████████████████████▌         | 266kB 5.3MB/s eta 0:00:01\r\u001b[K     |███████████████████████▍        | 276kB 5.3MB/s eta 0:00:01\r\u001b[K     |████████████████████████▎       | 286kB 5.3MB/s eta 0:00:01\r\u001b[K     |█████████████████████████▏      | 296kB 5.3MB/s eta 0:00:01\r\u001b[K     |██████████████████████████      | 307kB 5.3MB/s eta 0:00:01\r\u001b[K     |██████████████████████████▉     | 317kB 5.3MB/s eta 0:00:01\r\u001b[K     |███████████████████████████▊    | 327kB 5.3MB/s eta 0:00:01\r\u001b[K     |████████████████████████████▋   | 337kB 5.3MB/s eta 0:00:01\r\u001b[K     |█████████████████████████████▌  | 348kB 5.3MB/s eta 0:00:01\r\u001b[K     |██████████████████████████████▍ | 358kB 5.3MB/s eta 0:00:01\r\u001b[K     |███████████████████████████████▏| 368kB 5.3MB/s eta 0:00:01\r\u001b[K     |████████████████████████████████| 378kB 5.3MB/s \n",
            "\u001b[?25hRequirement already satisfied: numpy>=1.9.1 in /usr/local/lib/python3.6/dist-packages (from keras==2.3.1) (1.19.4)\n",
            "Requirement already satisfied: pyyaml in /usr/local/lib/python3.6/dist-packages (from keras==2.3.1) (3.13)\n",
            "Requirement already satisfied: h5py in /usr/local/lib/python3.6/dist-packages (from keras==2.3.1) (2.10.0)\n",
            "Requirement already satisfied: six>=1.9.0 in /usr/local/lib/python3.6/dist-packages (from keras==2.3.1) (1.15.0)\n",
            "Requirement already satisfied: keras-preprocessing>=1.0.5 in /usr/local/lib/python3.6/dist-packages (from keras==2.3.1) (1.1.2)\n",
            "Collecting keras-applications>=1.0.6\n",
            "\u001b[?25l  Downloading https://files.pythonhosted.org/packages/71/e3/19762fdfc62877ae9102edf6342d71b28fbfd9dea3d2f96a882ce099b03f/Keras_Applications-1.0.8-py3-none-any.whl (50kB)\n",
            "\u001b[K     |████████████████████████████████| 51kB 5.2MB/s \n",
            "\u001b[?25hRequirement already satisfied: scipy>=0.14 in /usr/local/lib/python3.6/dist-packages (from keras==2.3.1) (1.4.1)\n",
            "Installing collected packages: keras-applications, keras\n",
            "  Found existing installation: Keras 2.4.3\n",
            "    Uninstalling Keras-2.4.3:\n",
            "      Successfully uninstalled Keras-2.4.3\n",
            "Successfully installed keras-2.3.1 keras-applications-1.0.8\n"
          ],
          "name": "stdout"
        }
      ]
    },
    {
      "cell_type": "code",
      "metadata": {
        "colab": {
          "base_uri": "https://localhost:8080/"
        },
        "id": "3_6XzGgjyd69",
        "outputId": "7e557364-2bbc-4572-b476-0cdcac2c6e75"
      },
      "source": [
        "import numpy as np\r\n",
        "import pandas as pd\r\n",
        "from tensorflow.keras.applications.inception_resnet_v2 import InceptionResNetV2, preprocess_input\r\n",
        "from tensorflow.keras import Sequential\r\n",
        "from tensorflow.keras.layers import Conv2D, Flatten, Dense\r\n",
        "\r\n",
        "HEIGHT = 300\r\n",
        "WIDTH = 300\r\n",
        "\r\n",
        "base_model = InceptionResNetV2(weights='imagenet', \r\n",
        "                      include_top=False, \r\n",
        "                      input_shape=(HEIGHT, WIDTH, 3))"
      ],
      "execution_count": 3,
      "outputs": [
        {
          "output_type": "stream",
          "text": [
            "Downloading data from https://storage.googleapis.com/tensorflow/keras-applications/inception_resnet_v2/inception_resnet_v2_weights_tf_dim_ordering_tf_kernels_notop.h5\n",
            "219062272/219055592 [==============================] - 1s 0us/step\n"
          ],
          "name": "stdout"
        }
      ]
    },
    {
      "cell_type": "code",
      "metadata": {
        "colab": {
          "base_uri": "https://localhost:8080/"
        },
        "id": "-OdB84fVyp6a",
        "outputId": "e6e87232-c037-4fc7-fef5-b32a5e676aca"
      },
      "source": [
        "import os\r\n",
        "os.chdir('drive/MyDrive/skin_detect/')\r\n",
        "print(os.getcwd())"
      ],
      "execution_count": 4,
      "outputs": [
        {
          "output_type": "stream",
          "text": [
            "/content/drive/MyDrive/skin_detect\n"
          ],
          "name": "stdout"
        }
      ]
    },
    {
      "cell_type": "code",
      "metadata": {
        "colab": {
          "base_uri": "https://localhost:8080/"
        },
        "id": "ZdS5sRbKy5VD",
        "outputId": "d40282be-f494-4ec3-a1ca-824da715265c"
      },
      "source": [
        "from tensorflow.keras.preprocessing.image import ImageDataGenerator\r\n",
        "\r\n",
        "TRAIN_DIR = \"train/\"\r\n",
        "BATCH_SIZE = 8\r\n",
        "\r\n",
        "train_datagen =  ImageDataGenerator(\r\n",
        "      preprocessing_function=preprocess_input,\r\n",
        "      # rescale=1./255,\r\n",
        "      rotation_range=90,\r\n",
        "      width_shift_range=0.2,\r\n",
        "      height_shift_range=0.2,\r\n",
        "      shear_range=0.2,\r\n",
        "      zoom_range=0.2,\r\n",
        "      horizontal_flip=True,\r\n",
        "      vertical_flip=True\r\n",
        "    )\r\n",
        "\r\n",
        "train_generator = train_datagen.flow_from_directory(TRAIN_DIR, \r\n",
        "                                                    target_size=(HEIGHT, WIDTH), \r\n",
        "                                                    batch_size=BATCH_SIZE)\r\n",
        "\r\n",
        "\r\n",
        "test_datagen =  ImageDataGenerator(\r\n",
        "      preprocessing_function=preprocess_input,\r\n",
        "      # rescale=1./255,\r\n",
        "      rotation_range=90,\r\n",
        "      width_shift_range=0.2,\r\n",
        "      height_shift_range=0.2,\r\n",
        "      shear_range=0.2,\r\n",
        "      zoom_range=0.2,\r\n",
        "      horizontal_flip=True,\r\n",
        "      vertical_flip=True\r\n",
        "    )\r\n",
        "validation_generator = test_datagen.flow_from_directory(\r\n",
        "        'test/',\r\n",
        "        target_size=(HEIGHT, WIDTH),\r\n",
        "        batch_size=BATCH_SIZE)"
      ],
      "execution_count": 5,
      "outputs": [
        {
          "output_type": "stream",
          "text": [
            "Found 374 images belonging to 2 classes.\n",
            "Found 90 images belonging to 2 classes.\n"
          ],
          "name": "stdout"
        }
      ]
    },
    {
      "cell_type": "code",
      "metadata": {
        "id": "QHoi_ATIzAm6"
      },
      "source": [
        "from tensorflow.keras.layers import Dense, Activation, Flatten, Dropout\r\n",
        "from tensorflow.keras.models import Sequential, Model\r\n",
        "\r\n",
        "def build_finetune_model(base_model, dropout, fc_layers, num_classes):\r\n",
        "    for layer in base_model.layers:\r\n",
        "        layer.trainable = False\r\n",
        "    # for layer in base_model.layers[-2:]:\r\n",
        "    #     layer.trainable = True\r\n",
        "\r\n",
        "    x = base_model.output\r\n",
        "    x = Flatten()(x)\r\n",
        "    for fc in fc_layers:\r\n",
        "        # New FC layer, random init\r\n",
        "        x = Dense(fc, activation='relu')(x) \r\n",
        "        x = Dropout(dropout)(x)\r\n",
        "\r\n",
        "    # New softmax layer\r\n",
        "    predictions = Dense(num_classes, activation='softmax')(x) \r\n",
        "    \r\n",
        "    finetune_model = Model(inputs=base_model.input, outputs=predictions)\r\n",
        "\r\n",
        "    return finetune_model\r\n",
        "\r\n",
        "class_list = os.listdir(\"train/\")\r\n",
        "FC_LAYERS = [1024, 1024]\r\n",
        "dropout = 0.5\r\n",
        "\r\n",
        "finetune_model = build_finetune_model(base_model, \r\n",
        "                                      dropout=dropout, \r\n",
        "                                      fc_layers=FC_LAYERS, \r\n",
        "                                      num_classes=len(class_list))"
      ],
      "execution_count": 14,
      "outputs": []
    },
    {
      "cell_type": "code",
      "metadata": {
        "colab": {
          "base_uri": "https://localhost:8080/"
        },
        "id": "37OOQCCdzJfY",
        "outputId": "ce930ad1-ea52-459f-92b4-e6a7f8524812"
      },
      "source": [
        "from tensorflow.keras.optimizers import Adam\r\n",
        "from tensorflow.keras.callbacks import ModelCheckpoint\r\n",
        "import matplotlib.pyplot as plt\r\n",
        "\r\n",
        "NUM_EPOCHS = 20\r\n",
        "BATCH_SIZE = 16\r\n",
        "num_train_images = 370\r\n",
        "\r\n",
        "adam = Adam(lr=0.00001)\r\n",
        "finetune_model.compile(adam, loss='categorical_crossentropy', metrics=['categorical_accuracy'])\r\n",
        "\r\n",
        "filepath=\"eff_checkpoint_\" + \"RES\" + \"_inception_weights.h5\"\r\n",
        "checkpoint = ModelCheckpoint(filepath, monitor=[\"acc\"], verbose=1, mode='max')\r\n",
        "callbacks_list = [checkpoint]\r\n",
        "\r\n",
        "history = finetune_model.fit(train_generator, epochs=NUM_EPOCHS, workers=16, \r\n",
        "                                       steps_per_epoch=num_train_images // BATCH_SIZE, \r\n",
        "                                       shuffle=True, callbacks=callbacks_list, validation_data=validation_generator)"
      ],
      "execution_count": 15,
      "outputs": [
        {
          "output_type": "stream",
          "text": [
            "Epoch 1/20\n",
            "23/23 [==============================] - 153s 6s/step - loss: 0.9647 - categorical_accuracy: 0.5247 - val_loss: 0.4838 - val_categorical_accuracy: 0.7667\n",
            "\n",
            "Epoch 00001: saving model to eff_checkpoint_RES_inception_weights.h5\n",
            "Epoch 2/20\n",
            "23/23 [==============================] - 142s 6s/step - loss: 0.7749 - categorical_accuracy: 0.6773 - val_loss: 0.3494 - val_categorical_accuracy: 0.8667\n",
            "\n",
            "Epoch 00002: saving model to eff_checkpoint_RES_inception_weights.h5\n",
            "Epoch 3/20\n",
            "23/23 [==============================] - 142s 6s/step - loss: 0.5783 - categorical_accuracy: 0.7794 - val_loss: 0.3808 - val_categorical_accuracy: 0.8333\n",
            "\n",
            "Epoch 00003: saving model to eff_checkpoint_RES_inception_weights.h5\n",
            "Epoch 4/20\n",
            "23/23 [==============================] - 143s 6s/step - loss: 0.4802 - categorical_accuracy: 0.8429 - val_loss: 0.3693 - val_categorical_accuracy: 0.8556\n",
            "\n",
            "Epoch 00004: saving model to eff_checkpoint_RES_inception_weights.h5\n",
            "Epoch 5/20\n",
            "23/23 [==============================] - 142s 6s/step - loss: 0.5029 - categorical_accuracy: 0.7856 - val_loss: 0.4618 - val_categorical_accuracy: 0.7889\n",
            "\n",
            "Epoch 00005: saving model to eff_checkpoint_RES_inception_weights.h5\n",
            "Epoch 6/20\n",
            "23/23 [==============================] - 144s 6s/step - loss: 0.6932 - categorical_accuracy: 0.7361 - val_loss: 0.3410 - val_categorical_accuracy: 0.8333\n",
            "\n",
            "Epoch 00006: saving model to eff_checkpoint_RES_inception_weights.h5\n",
            "Epoch 7/20\n",
            "23/23 [==============================] - 143s 6s/step - loss: 0.3932 - categorical_accuracy: 0.8461 - val_loss: 0.4107 - val_categorical_accuracy: 0.8556\n",
            "\n",
            "Epoch 00007: saving model to eff_checkpoint_RES_inception_weights.h5\n",
            "Epoch 8/20\n",
            "23/23 [==============================] - 142s 6s/step - loss: 0.5107 - categorical_accuracy: 0.8122 - val_loss: 0.3238 - val_categorical_accuracy: 0.8778\n",
            "\n",
            "Epoch 00008: saving model to eff_checkpoint_RES_inception_weights.h5\n",
            "Epoch 9/20\n",
            "23/23 [==============================] - 144s 6s/step - loss: 0.3830 - categorical_accuracy: 0.8359 - val_loss: 0.3704 - val_categorical_accuracy: 0.8889\n",
            "\n",
            "Epoch 00009: saving model to eff_checkpoint_RES_inception_weights.h5\n",
            "Epoch 10/20\n",
            "23/23 [==============================] - 142s 6s/step - loss: 0.5358 - categorical_accuracy: 0.8397 - val_loss: 0.3483 - val_categorical_accuracy: 0.8556\n",
            "\n",
            "Epoch 00010: saving model to eff_checkpoint_RES_inception_weights.h5\n",
            "Epoch 11/20\n",
            "23/23 [==============================] - 142s 6s/step - loss: 0.4066 - categorical_accuracy: 0.8164 - val_loss: 0.4739 - val_categorical_accuracy: 0.8222\n",
            "\n",
            "Epoch 00011: saving model to eff_checkpoint_RES_inception_weights.h5\n",
            "Epoch 12/20\n",
            "23/23 [==============================] - 144s 6s/step - loss: 0.4800 - categorical_accuracy: 0.8207 - val_loss: 0.3860 - val_categorical_accuracy: 0.8222\n",
            "\n",
            "Epoch 00012: saving model to eff_checkpoint_RES_inception_weights.h5\n",
            "Epoch 13/20\n",
            "23/23 [==============================] - 143s 6s/step - loss: 0.5634 - categorical_accuracy: 0.7757 - val_loss: 0.3783 - val_categorical_accuracy: 0.8222\n",
            "\n",
            "Epoch 00013: saving model to eff_checkpoint_RES_inception_weights.h5\n",
            "Epoch 14/20\n",
            "23/23 [==============================] - 142s 6s/step - loss: 0.4507 - categorical_accuracy: 0.8025 - val_loss: 0.4685 - val_categorical_accuracy: 0.8111\n",
            "\n",
            "Epoch 00014: saving model to eff_checkpoint_RES_inception_weights.h5\n",
            "Epoch 15/20\n",
            "23/23 [==============================] - 142s 6s/step - loss: 0.4022 - categorical_accuracy: 0.8676 - val_loss: 0.5072 - val_categorical_accuracy: 0.7889\n",
            "\n",
            "Epoch 00015: saving model to eff_checkpoint_RES_inception_weights.h5\n",
            "Epoch 16/20\n",
            "23/23 [==============================] - 143s 6s/step - loss: 0.4680 - categorical_accuracy: 0.8346 - val_loss: 0.3934 - val_categorical_accuracy: 0.8000\n",
            "\n",
            "Epoch 00016: saving model to eff_checkpoint_RES_inception_weights.h5\n",
            "Epoch 17/20\n",
            "23/23 [==============================] - 142s 6s/step - loss: 0.2934 - categorical_accuracy: 0.8904 - val_loss: 0.3601 - val_categorical_accuracy: 0.8667\n",
            "\n",
            "Epoch 00017: saving model to eff_checkpoint_RES_inception_weights.h5\n",
            "Epoch 18/20\n",
            "23/23 [==============================] - 142s 6s/step - loss: 0.3028 - categorical_accuracy: 0.8699 - val_loss: 0.3484 - val_categorical_accuracy: 0.8778\n",
            "\n",
            "Epoch 00018: saving model to eff_checkpoint_RES_inception_weights.h5\n",
            "Epoch 19/20\n",
            "23/23 [==============================] - 141s 6s/step - loss: 0.4104 - categorical_accuracy: 0.8674 - val_loss: 0.4518 - val_categorical_accuracy: 0.8222\n",
            "\n",
            "Epoch 00019: saving model to eff_checkpoint_RES_inception_weights.h5\n",
            "Epoch 20/20\n",
            "23/23 [==============================] - 142s 6s/step - loss: 0.4126 - categorical_accuracy: 0.8562 - val_loss: 0.4054 - val_categorical_accuracy: 0.8778\n",
            "\n",
            "Epoch 00020: saving model to eff_checkpoint_RES_inception_weights.h5\n"
          ],
          "name": "stdout"
        }
      ]
    },
    {
      "cell_type": "code",
      "metadata": {
        "colab": {
          "base_uri": "https://localhost:8080/",
          "height": 295
        },
        "id": "dK862-yUzPoI",
        "outputId": "c87ed10e-5ff1-4ed7-9d2c-a40cd0c914bf"
      },
      "source": [
        "import matplotlib.pyplot as plt\r\n",
        "plt.plot(history.history['categorical_accuracy'])\r\n",
        "plt.plot(history.history['val_categorical_accuracy'])\r\n",
        "plt.title('model accuracy')\r\n",
        "plt.ylabel('accuracy')\r\n",
        "plt.xlabel('epoch')\r\n",
        "plt.legend(['train', 'val'], loc='upper left')\r\n",
        "plt.show()"
      ],
      "execution_count": 16,
      "outputs": [
        {
          "output_type": "display_data",
          "data": {
            "image/png": "[encoded data removed]",
            "text/plain": [
              "<Figure size 432x288 with 1 Axes>"
            ]
          },
          "metadata": {
            "tags": [],
            "needs_background": "light"
          }
        }
      ]
    },
    {
      "cell_type": "code",
      "metadata": {
        "colab": {
          "base_uri": "https://localhost:8080/"
        },
        "id": "fbV4GEoSDvME",
        "outputId": "259dba6b-9145-4254-f13e-18a2fbb80d3b"
      },
      "source": [
        "finetune_model.evaluate(validation_generator)"
      ],
      "execution_count": 17,
      "outputs": [
        {
          "output_type": "stream",
          "text": [
            "12/12 [==============================] - 41s 3s/step - loss: 0.3981 - categorical_accuracy: 0.8667\n"
          ],
          "name": "stdout"
        },
        {
          "output_type": "execute_result",
          "data": {
            "text/plain": [
              "[0.39810439944267273, 0.8666666746139526]"
            ]
          },
          "metadata": {
            "tags": []
          },
          "execution_count": 17
        }
      ]
    },
    {
      "cell_type": "code",
      "metadata": {
        "id": "5M3VMPW0Dx0h"
      },
      "source": [
        "from sklearn.metrics import confusion_matrix\r\n",
        "from sklearn.metrics import plot_confusion_matrix"
      ],
      "execution_count": 11,
      "outputs": []
    },
    {
      "cell_type": "code",
      "metadata": {
        "id": "kZVq1oUyD0hj"
      },
      "source": [
        "predictions1 = finetune_model.predict(x=validation_generator, verbose=0)\r\n",
        "cm = confusion_matrix(y_true=validation_generator.classes, y_pred=np.argmax(predictions1, axis=-1))"
      ],
      "execution_count": 18,
      "outputs": []
    },
    {
      "cell_type": "code",
      "metadata": {
        "colab": {
          "base_uri": "https://localhost:8080/",
          "height": 295
        },
        "id": "lFZmJJnND7zF",
        "outputId": "674ceac9-6ca0-46f7-a85c-17292503efa1"
      },
      "source": [
        "import seaborn as sns\r\n",
        "import matplotlib.pyplot as plt     \r\n",
        "\r\n",
        "ax= plt.subplot()\r\n",
        "sns.heatmap(cm, annot=True, ax = ax); #annot=True to annotate cells\r\n",
        "\r\n",
        "# labels, title and ticks\r\n",
        "ax.set_xlabel('Predicted labels');ax.set_ylabel('True labels'); \r\n",
        "ax.set_title('Confusion Matrix'); \r\n",
        "ax.xaxis.set_ticklabels(['EC', 'NEC']); ax.yaxis.set_ticklabels(['EC', 'NEC']);"
      ],
      "execution_count": 19,
      "outputs": [
        {
          "output_type": "display_data",
          "data": {
            "image/png": "[encoded data removed]",
            "text/plain": [
              "<Figure size 432x288 with 2 Axes>"
            ]
          },
          "metadata": {
            "tags": [],
            "needs_background": "light"
          }
        }
      ]
    },
    {
      "cell_type": "code",
      "metadata": {
        "id": "Uog1UGl-EAsy"
      },
      "source": [
        ""
      ],
      "execution_count": null,
      "outputs": []
    }
  ]
}